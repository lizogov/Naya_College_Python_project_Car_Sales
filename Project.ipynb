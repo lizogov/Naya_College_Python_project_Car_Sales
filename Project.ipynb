{
 "cells": [
  {
   "cell_type": "code",
   "execution_count": 90,
   "id": "937ff903-4de7-4e3d-a2fa-a308024da66a",
   "metadata": {},
   "outputs": [],
   "source": [
    "import pandas as pd\n",
    "import numpy as np\n",
    "import plotly.express as px\n",
    "import matplotlib.pyplot as plt\n",
    "import time\n",
    "import matplotlib as mpl\n",
    "import plotly.graph_objects as go\n",
    "from matplotlib.animation import FuncAnimation\n"
   ]
  },
  {
   "cell_type": "markdown",
   "id": "fb0c21dd-4aa4-4ad1-b496-67d516c8ccd6",
   "metadata": {},
   "source": [
    "Data reading"
   ]
  },
  {
   "cell_type": "code",
   "execution_count": 36,
   "id": "5a3b537c-c08c-4849-b1bf-e1769dafea5c",
   "metadata": {},
   "outputs": [
    {
     "name": "stdout",
     "output_type": "stream",
     "text": [
      "        Brand     Model  Year     Status  Mileage  \\\n",
      "0       Mazda      CX-5  2023        New      NaN   \n",
      "1         Kia  Sportage  2023        New      NaN   \n",
      "2   Chevrolet    Camaro  2024        New      NaN   \n",
      "3        Ford    Bronco  2023       Used   1551.0   \n",
      "4       Acura       TLX  2021       Used  30384.0   \n",
      "5  Volkswagen      Golf  2022  Certified  13895.0   \n",
      "6         GMC     Yukon  2021       Used  68506.0   \n",
      "7         BMW      M340  2023        New      NaN   \n",
      "8     Hyundai    Sonata  2023        New      NaN   \n",
      "9     Hyundai    Sonata  2023        New      NaN   \n",
      "\n",
      "                               Dealer    Price  \n",
      "0                                 NaN  36703.0  \n",
      "1                         Classic Kia  28990.0  \n",
      "2          Classic Chevrolet Beaumont  41425.0  \n",
      "3  Mike Smith Chrysler Dodge Jeep RAM  58900.0  \n",
      "4                   Mike Smith Nissan  34499.0  \n",
      "5              Volkswagen of Beaumont  34000.0  \n",
      "6                     BMW of Beaumont  56954.0  \n",
      "7                     BMW of Beaumont  61715.0  \n",
      "8                  Hyundai of Silsbee  37945.0  \n",
      "9                  Hyundai of Silsbee  33495.0  \n",
      "<class 'pandas.core.frame.DataFrame'>\n",
      "RangeIndex: 51793 entries, 0 to 51792\n",
      "Data columns (total 7 columns):\n",
      " #   Column   Non-Null Count  Dtype  \n",
      "---  ------   --------------  -----  \n",
      " 0   Brand    51793 non-null  object \n",
      " 1   Model    51793 non-null  object \n",
      " 2   Year     51793 non-null  int64  \n",
      " 3   Status   51793 non-null  object \n",
      " 4   Mileage  22981 non-null  float64\n",
      " 5   Dealer   51689 non-null  object \n",
      " 6   Price    50644 non-null  float64\n",
      "dtypes: float64(2), int64(1), object(4)\n",
      "memory usage: 2.8+ MB\n"
     ]
    },
    {
     "data": {
      "text/html": [
       "<div>\n",
       "<style scoped>\n",
       "    .dataframe tbody tr th:only-of-type {\n",
       "        vertical-align: middle;\n",
       "    }\n",
       "\n",
       "    .dataframe tbody tr th {\n",
       "        vertical-align: top;\n",
       "    }\n",
       "\n",
       "    .dataframe thead th {\n",
       "        text-align: right;\n",
       "    }\n",
       "</style>\n",
       "<table border=\"1\" class=\"dataframe\">\n",
       "  <thead>\n",
       "    <tr style=\"text-align: right;\">\n",
       "      <th></th>\n",
       "      <th>Year</th>\n",
       "      <th>Mileage</th>\n",
       "      <th>Price</th>\n",
       "    </tr>\n",
       "  </thead>\n",
       "  <tbody>\n",
       "    <tr>\n",
       "      <th>count</th>\n",
       "      <td>51793.000000</td>\n",
       "      <td>22981.000000</td>\n",
       "      <td>5.064400e+04</td>\n",
       "    </tr>\n",
       "    <tr>\n",
       "      <th>mean</th>\n",
       "      <td>2020.971425</td>\n",
       "      <td>53463.782211</td>\n",
       "      <td>5.130342e+04</td>\n",
       "    </tr>\n",
       "    <tr>\n",
       "      <th>std</th>\n",
       "      <td>4.215305</td>\n",
       "      <td>44567.464826</td>\n",
       "      <td>3.557212e+04</td>\n",
       "    </tr>\n",
       "    <tr>\n",
       "      <th>min</th>\n",
       "      <td>1959.000000</td>\n",
       "      <td>0.000000</td>\n",
       "      <td>1.990000e+03</td>\n",
       "    </tr>\n",
       "    <tr>\n",
       "      <th>25%</th>\n",
       "      <td>2020.000000</td>\n",
       "      <td>20609.000000</td>\n",
       "      <td>3.098375e+04</td>\n",
       "    </tr>\n",
       "    <tr>\n",
       "      <th>50%</th>\n",
       "      <td>2023.000000</td>\n",
       "      <td>42158.000000</td>\n",
       "      <td>4.559850e+04</td>\n",
       "    </tr>\n",
       "    <tr>\n",
       "      <th>75%</th>\n",
       "      <td>2023.000000</td>\n",
       "      <td>73960.000000</td>\n",
       "      <td>6.310050e+04</td>\n",
       "    </tr>\n",
       "    <tr>\n",
       "      <th>max</th>\n",
       "      <td>2024.000000</td>\n",
       "      <td>400396.000000</td>\n",
       "      <td>1.299995e+06</td>\n",
       "    </tr>\n",
       "  </tbody>\n",
       "</table>\n",
       "</div>"
      ],
      "text/plain": [
       "               Year        Mileage         Price\n",
       "count  51793.000000   22981.000000  5.064400e+04\n",
       "mean    2020.971425   53463.782211  5.130342e+04\n",
       "std        4.215305   44567.464826  3.557212e+04\n",
       "min     1959.000000       0.000000  1.990000e+03\n",
       "25%     2020.000000   20609.000000  3.098375e+04\n",
       "50%     2023.000000   42158.000000  4.559850e+04\n",
       "75%     2023.000000   73960.000000  6.310050e+04\n",
       "max     2024.000000  400396.000000  1.299995e+06"
      ]
     },
     "execution_count": 36,
     "metadata": {},
     "output_type": "execute_result"
    }
   ],
   "source": [
    "\n",
    "df = pd.read_csv('cars.csv',encoding='UTF-16',sep=',')\n",
    "print(df.head(10))  # Print the first 5 rows of the dataframe\n",
    "df.info()  # Get a concise summary of the dataframe\n",
    "df.describe()  # Generate descriptive statistics of the dataframe"
   ]
  },
  {
   "cell_type": "code",
   "execution_count": null,
   "id": "cf0ffa05-d832-4ef8-b11c-d48fe476dc91",
   "metadata": {},
   "outputs": [],
   "source": [
    "# Data Cleaning\n",
    "df['Status'] = df['Status'].replace('','0')\n",
    "df = df.drop_duplicates()  # Remove duplicates\n",
    "df.loc[df['Status'] == 'New', 'Mileage'] = df.loc[df['Status'] == 'New', 'Mileage'].fillna(0)\n",
    "df = df.dropna()  # Remove rows with missing values\n",
    "df.isna().sum()\n",
    "print(\"The categories in the variable 'Status': \",end=\" \")\n",
    "print(df['Status'].unique())"
   ]
  },
  {
   "cell_type": "code",
   "execution_count": 4,
   "id": "3157eaa9-3744-42aa-a3cb-74fad84cc2a6",
   "metadata": {
    "editable": true,
    "slideshow": {
     "slide_type": ""
    },
    "tags": []
   },
   "outputs": [],
   "source": [
    "# Storage\n",
    "df.to_csv('cleaned_data.csv')  # Save the cleaned data to a csv file\n",
    "df.to_json('cleaned_data.json')  # Save the cleaned data to a json file\n"
   ]
  },
  {
   "cell_type": "code",
   "execution_count": 5,
   "id": "5cb304b6-cb68-4666-a6d8-02cb3489dab9",
   "metadata": {},
   "outputs": [
    {
     "name": "stdout",
     "output_type": "stream",
     "text": [
      "The categories in the variable 'Brand':  ['Kia' 'Chevrolet' 'Ford' 'Acura' 'Volkswagen' 'GMC' 'BMW' 'Hyundai'\n",
      " 'Jeep' 'Dodge' 'Infiniti' 'Honda' 'Lexus' 'Toyota' 'Cadillac' 'Buick'\n",
      " 'Mazda' 'Lincoln' 'Mercury' 'MINI' 'RAM' 'Land Rover' 'Audi' 'Nissan'\n",
      " 'Mercedes' 'Porsche' 'Subaru' 'Jaguar' 'Maserati' 'Alfa Romeo' 'Tesla'\n",
      " 'Bentley' 'Genesis' 'Volvo' 'Chrysler' 'Mitsubishi' 'FIAT' 'Rivian'\n",
      " 'Aston Martin' 'Lamborghini' 'Hummer' 'Saturn' 'Rolls-Royce' 'Ferrari'\n",
      " 'Polestar' 'Lucid' 'Scion' 'Pontiac' 'Karma' 'Smart' 'McLaren' 'Lotus'\n",
      " 'Saab' 'Maybach' 'Suzuki' 'International Scout' 'Geo' 'Oldsmobile'\n",
      " 'Isuzu']\n",
      "The categories in the variable 'Model':  ['Sportage' 'Camaro' 'Bronco' 'TLX' 'Golf' 'Yukon' 'M340' 'Sonata'\n",
      " 'Grand Cherokee' 'Wagoneer' 'Durango' 'Mustang' 'F-350' 'QX30' 'Passport'\n",
      " 'ES' 'Sierra' 'Tundra' 'CT5' 'Envista' 'CX-5' 'Civic' 'Accord' 'Atlas'\n",
      " '4Runner' 'Sequoia' 'Continental' 'Marquis' 'IS' 'LX' 'RZ 450e'\n",
      " 'Escalade' 'LS' 'Nautilus' 'Integra' 'MDX' '435 i' 'ILX' 'Palisade' 'X7'\n",
      " 'Escape' 'Cooper' 'iX M60' 'X3' 'Canyon' 'Land Cruiser' 'LYRIQ' 'Trax'\n",
      " '1500' 'Navigator' 'Range Rover' 'RS 5' 'Leaf S' 'Altima' 'E-Class'\n",
      " 'GLS 600' 'Highlander' 'GLS 450' 'Cayenne' 'Q7' 'TT' 'Wrangler' 'GT'\n",
      " 'F-150' 'F-250' 'Defender' 'QX80' 'QX60' 'Essentia' 'GLE' 'Panamera' 'M3'\n",
      " 'Telluride' 'Forte' 'A7' 'X5' '330 i' 'iX xDrive50' '740' 'Juke' 'CT6'\n",
      " 'Mazda3' 'WRX' 'Crosstrek' 'Ranger' 'Explorer' 'Town Car' 'Fusion' '2500'\n",
      " 'Gladiator' 'Q5' 'F-PACE' 'Discovery' 'Silverado' 'GLA' 'G 550' 'e-tron'\n",
      " 'S-Class' 'Ghibli' 'Tahoe' '6' 'CR-V' 'Elantra' 'GX' 'Odyssey' 'Giulia'\n",
      " 'Corvette' 'C-Class' 'CX-9' 'CL' 'X4' '3' 'Suburban' 'Fiesta' 'Tacoma'\n",
      " 'Model X' 'Flying Spur' 'Roadster' 'Corsair' 'MX-5 Miata' 'xD' 'Tucson'\n",
      " 'RX' 'LC' 'Macan' 'Taycan' 'RDX' 'Outback' 'GV80' 'G70' 'Challenger'\n",
      " 'Ascent' 'XT4' '1' 'Pathfinder' 'GLC' 'AMG GT' 'GLS 580' '300' '4MATIC'\n",
      " 'Acadia' 'RS 7' 'SQ5' '540 i' 'A8' 'QX50' 'S3' 'Charger' 'Equinox'\n",
      " 'Coupe' 'GR86' 'Prius' 'Armada' 'Maxima' 'Rogue' 'Kicks' 'Sentra' 'Camry'\n",
      " 'Aviator' 'Pilot' 'Expedition' 'Colorado' 'Soul' 'Legacy' 'Corolla'\n",
      " 'Sienna' 'Crown' 'XC90' '3500' 'Mirage' 'Terrain' 'Renegade' 'Envision'\n",
      " 'Carnival' 'Sorento' 'Model S' 'RAV4' 'Tiguan' 'Jetta' '86' '500'\n",
      " 'Model Y' 'Viper' 'R1S' 'Ioniq' 'S90' 'Model 3' 'F-450' 'CX-30' 'CT4-V'\n",
      " 'Supra' 'Q40' 'Avalon' 'M5' 'Outlander' 'A4' 'Titan' 'C-HR' 'Venza'\n",
      " 'Cruze' 'XC60' 'CX-3' 'Kona' 'XT6' 'FJ Cruiser' 'G80' 'SRX' 'Passat'\n",
      " 'Malibu' 'Ridgeline' 'CT4' 'Blazer' 'S8' 'Vantage' 'ID.4' 'Versa'\n",
      " 'Enclave' '911' 'Santa Cruz' 'SC 400' 'X6' 'M850 i' 'Aventador' 'CLA'\n",
      " 'Journey' 'AMG E53' 'Santa Fe' 'GS 350' 'Grand Wagoneer' 'G90' 'S5'\n",
      " 'HR-V' 'H2 SUT' 'Q8' 'SL 400' 'Sky' 'Excursion' 'RC' 'Levante' 'Cayman'\n",
      " 'Compass' 'Cherokee' 'Cullinan' 'XT5' 'M440 i' '750 i' 'UX' '430 i' 'NX'\n",
      " 'California' 'Niro' 'Maverick' 'BRZ' 'Boxster' 'QX56' '750' 'Bentayga'\n",
      " 'Quattroporte' 'H3' 'Thunderbird' '2' 'S60' 'Q3' 'A3' 'A6' 'XB7' 'GLB'\n",
      " 'GS F' 'Bolt' 'Rio' 'Seltos' 'Q60' 'Azera' 'R32' 'M4' 'XC40' 'Electric'\n",
      " 'GL 450' 'MKZ' 'Grand Touring' 'Murano' 'SQ8' 'LR4' 'Solterra' 'Flex'\n",
      " 'RLX' 'V60' 'MKC' 'V90' 'Stinger' 'EQS' 'A5' 'Impala' 'Traverse'\n",
      " 'Trailblazer' 'Stelvio' 'K5' 'M2' 'Spider' 'C70' 'CTS' '535 i' 'Encore'\n",
      " 'M6' 'Fit' 'TC' 'Edge' 'F-TYPE' 'Focus' 'GV70' 'S4' 'Frontier' 'Z Sport'\n",
      " 'Optima' 'NV200 S' 'Patriot' 'GranTurismo' 'Forester' 'SLK32' 'Pacifica'\n",
      " 'C 43' 'Town & Country' 'Transit' 'SC 430' 'R8' 'SL 550' 'TL' 'MC20'\n",
      " 'I-PACE' 'Venue' 'CR-Z' 'Impreza' '440 i' 'XK' 'Touareg' 'Spyder' 'i3'\n",
      " 'XM' 'M8' 'Xterra' '760i' 'i7' '525' 'E-PACE' 'Eclipse Cross' 'Mazda6'\n",
      " 'Yaris' 'M-Class' '718' 'XE' 'R1T' 'X2' '428 i' 'Quest' 'Dart' '550 i'\n",
      " 'QX70' 'Z4' 'EV6' 'i8' 'XF' 'K900' 'Mariner' 'MKS' 'Grecale' 'SL 55'\n",
      " 'Volt' 'MKT' 'S6' 'ARIYA' 'Arteon' 'Regal' 'LeSabre' 'ATS' 'S2000'\n",
      " 'A-Class' 'Accent' 'Aveo' 'PT Cruiser' 'LaCrosse' 'C30' 'Chevelle' '4500'\n",
      " 'Veloster' '528 i' '720S' '530 i' 'LTD' 'SLK300' 'RS6' 'MX-30' 'Cascada'\n",
      " 'C-Max' 'E-Transit' 'XC70' 'Avalanche' 'Ghost' 'DB11' 'CC' 'Firebird'\n",
      " 'X1' 'Taurus' 'Lancer' 'QX55' 'Crosstour' 'Beetle' 'NV3500' 'Metris'\n",
      " 'EcoSport' 'Lucerne' '535' 'Tonale' 'XTS' 'Z' 'Police Interceptor'\n",
      " 'Sonic' 'C10' 'Verano' 'DTS' 'DBX' 'FF Base' 'Gallardo' 'Arnage' 'S7'\n",
      " 'Urus' 'Silver Seraph' 'Alpina' 'Liberty' 'xB' '9-3' 'Matrix' 'Type 57'\n",
      " '840 i' 'LR2' 'SQ7' 'XJ' 'Cabrio' 'e-Golf' 'DeVille' 'Solstice' 'Eos'\n",
      " 'Artura' 'iQ' 'Hornet' 'H2' 'CJ-5' 'RS 3' '528i' 'MKX' 'XL7' 'XLR'\n",
      " 'Hardtop' 'E350' 'B4000' 'Crossfire' 'Huracan' 'Savana' 'M760 i' 'i-MiEV'\n",
      " 'GV60' 'Scout' 'FX35' 'Park Avenue' 'Grand Prix' 'NV2500' 'NSX' 'Tribute'\n",
      " 'ForTwo' 'E250' 'Insight' 'ProMaster' 'Cadenza' 'Baja' 'Convertible'\n",
      " 'G37' 'SL 43' 'G35' 'Wraith' 'S209' '675LT' '560 SL' 'Neon' 'Avenger'\n",
      " '430i' '530e' 'EQE' 'El Camino' 'del Sol' 'FR-S' 'bZ4X' 'Monte Carlo'\n",
      " 'Riviera' '530i' 'Tracker' 'Dakota' 'Mulsanne' 'TSX' 'Grand Caravan'\n",
      " 'Sprinter' 'Sedona' '928' 'Mazda5' 'Aztek' '488' '570GT' 'Roma' '914'\n",
      " '488 GTB' 'F8 Tributo' 'Century' 'Dawn' '9-5' 'Stealth' 'SL 450' 'Vibe'\n",
      " 'SS' 'Caravan' 'HHR' 'Cavalier' 'Sebring' 'GS' 'GTC4Lusso' 'Element'\n",
      " 'Air' 'Cutlass' 'Mark' 'Astro' 'DB9' 'Eurovan' 'STS' 'Captiva' 'Trooper'\n",
      " 'JX35' 'RL' 'Galant' '528' 'Venture' 'MR2' 'DBS' 'SL55' 'Commander'\n",
      " 'Elise' 'Bonneville' 'Rapide' 'GS-6' 'Eldorado' 'Strada' 'Cobalt'\n",
      " 'Grand Vitara' 'Equus' 'SX4' 'SLS' '600LT' '570S' 'Portofino' 'Endeavor'\n",
      " 'CX-7' 'SLK350' 'S-TYPE' 'Nitro' 'B3000' '4C' 'M35' 'LeBaron' 'Celica'\n",
      " 'Entourage' 'E150' 'Pickup Truck' 'Phantom' 'Mirai' '924 S']\n",
      "The categories in the variable 'Dealer':  ['Classic Kia' 'Classic Chevrolet Beaumont'\n",
      " 'Mike Smith Chrysler Dodge Jeep RAM' ... 'Mistlin Honda'\n",
      " 'Roberts Auto Sales' 'Mercedes-Benz of El Dorado Hills']\n",
      "The categories in the variable 'Status':  ['New' 'Used' 'Certified']\n",
      "The minimum price of the car = 1990.0\n",
      "The maximum price of the car = 1299995.0\n"
     ]
    }
   ],
   "source": [
    "# Checking the categories of the categorical features:\n",
    "\n",
    "\n",
    "print(\"The categories in the variable 'Brand': \",end=\" \")\n",
    "print(df['Brand'].unique())\n",
    "\n",
    "\n",
    "print(\"The categories in the variable 'Model': \",end=\" \")\n",
    "print(df['Model'].unique())\n",
    "\n",
    "print(\"The categories in the variable 'Dealer': \",end=\" \")\n",
    "print(df['Dealer'].unique())\n",
    "\n",
    "print(\"The categories in the variable 'Status': \",end=\" \")\n",
    "print(df['Status'].unique())\n",
    "\n",
    "min_price = df['Price'].min()\n",
    "max_price = df['Price'].max()\n",
    "print(\"The minimum price of the car = {}\".format(min_price))\n",
    "print(\"The maximum price of the car = {}\".format(max_price))"
   ]
  },
  {
   "cell_type": "code",
   "execution_count": 38,
   "id": "e1d1e742-4490-41f6-a766-99b2825a77b5",
   "metadata": {},
   "outputs": [
    {
     "data": {
      "text/plain": [
       "Brand                         \n",
       "Acura       Acura MDX             323\n",
       "            Acura TLX             217\n",
       "            Acura RDX             123\n",
       "Alfa Romeo  Alfa Romeo Giulia      90\n",
       "            Alfa Romeo Stelvio     67\n",
       "                                 ... \n",
       "Volkswagen  Volkswagen Golf       147\n",
       "            Volkswagen Jetta      139\n",
       "Volvo       Volvo XC90            246\n",
       "            Volvo XC60            152\n",
       "            Volvo XC40             97\n",
       "Name: Company_Model, Length: 160, dtype: int64"
      ]
     },
     "execution_count": 38,
     "metadata": {},
     "output_type": "execute_result"
    }
   ],
   "source": [
    "df['Company_Model'] = df['Brand'] + \" \" + df['Model']\n",
    "top3_models = df.groupby('Brand')['Company_Model'].apply(lambda x: x.value_counts().nlargest(3))\n",
    "top3_models"
   ]
  },
  {
   "cell_type": "code",
   "execution_count": 39,
   "id": "690edbe2-fe36-4de3-a135-e1c17ebdd9d4",
   "metadata": {
    "editable": true,
    "slideshow": {
     "slide_type": ""
    },
    "tags": []
   },
   "outputs": [
    {
     "data": {
      "text/plain": [
       "Brand  Model  Year\n",
       "Acura  ILX    2015     1\n",
       "              2017     1\n",
       "              2018     3\n",
       "              2019     8\n",
       "              2020     3\n",
       "                      ..\n",
       "Volvo  XC90   2020    56\n",
       "              2021    26\n",
       "              2022    13\n",
       "              2023    85\n",
       "              2024    46\n",
       "Length: 4232, dtype: int64"
      ]
     },
     "execution_count": 39,
     "metadata": {},
     "output_type": "execute_result"
    }
   ],
   "source": [
    "\n",
    "brand_popularity = df.groupby(['Brand','Model', 'Year']).size()\n",
    "brand_popularity\n"
   ]
  },
  {
   "cell_type": "code",
   "execution_count": 74,
   "id": "ac626dc7-3d05-4270-8edb-16d7f6505251",
   "metadata": {},
   "outputs": [
    {
     "data": {
      "image/png": "[encoded data removed]",
      "text/plain": [
       "<Figure size 640x480 with 1 Axes>"
      ]
     },
     "metadata": {},
     "output_type": "display_data"
    },
    {
     "data": {
      "image/png": "[encoded data removed]",
      "text/plain": [
       "<Figure size 640x480 with 1 Axes>"
      ]
     },
     "metadata": {},
     "output_type": "display_data"
    },
    {
     "data": {
      "image/png": "[encoded data removed]",
      "text/plain": [
       "<Figure size 640x480 with 1 Axes>"
      ]
     },
     "metadata": {},
     "output_type": "display_data"
    },
    {
     "data": {
      "image/png": "[encoded data removed]",
      "text/plain": [
       "<Figure size 640x480 with 1 Axes>"
      ]
     },
     "metadata": {},
     "output_type": "display_data"
    },
    {
     "data": {
      "image/png": "[encoded data removed]",
      "text/plain": [
       "<Figure size 640x480 with 1 Axes>"
      ]
     },
     "metadata": {},
     "output_type": "display_data"
    }
   ],
   "source": [
    "\n",
    "# Filter the dataset to include only new cars\n",
    "new_cars_data = df[df['Status'] == 'New']\n",
    "top5_dealers = new_cars_data['Dealer'].value_counts().nlargest(5).index\n",
    "\n",
    "# Filter DataFrame to only include top 5 dealers\n",
    "df_top5 = df[df['Dealer'].isin(top5_dealers)]\n",
    "\n",
    "# Get top 3 cars sold by each dealer\n",
    "# top3_cars = df_top5.groupby('Dealer')['Company_Model'].apply(lambda x: x.value_counts(ascending=False).nlargest(3))\n",
    "\n",
    "# Plot\n",
    "for dealer in top5_dealers:\n",
    "    \n",
    "    df_dealer = new_cars_data[new_cars_data['Dealer'] == dealer]\n",
    "    top3_cars = df_dealer['Company_Model'].value_counts().nlargest(3)\n",
    "    top3_cars.plot(kind='bar', title=f'Top 3 Cars Sold by {dealer}')\n",
    "    plt.xlabel('Car')\n",
    "    plt.ylabel('Number of Cars Sold')\n",
    "    plt.show()"
   ]
  },
  {
   "cell_type": "code",
   "execution_count": 11,
   "id": "62300c95-9032-4a33-a7f5-53d78baf85e1",
   "metadata": {},
   "outputs": [
    {
     "data": {
      "text/plain": [
       "Brand  Model  Year  Status   \n",
       "Acura  ILX    2015  Used         13650.000000\n",
       "              2017  Used         16990.000000\n",
       "              2018  Used         18956.000000\n",
       "              2019  Certified    23621.500000\n",
       "                    Used         22659.500000\n",
       "                                     ...     \n",
       "Volvo  XC90   2022  Used         47883.333333\n",
       "              2023  Certified    63695.000000\n",
       "                    New          65882.521127\n",
       "                    Used         58576.600000\n",
       "              2024  New          72834.782609\n",
       "Name: Price, Length: 5432, dtype: float64"
      ]
     },
     "execution_count": 11,
     "metadata": {},
     "output_type": "execute_result"
    }
   ],
   "source": [
    "avg_price_by_year = df.groupby(['Brand', 'Model', 'Year','Status'])['Price'].mean()\n",
    "avg_price_by_year"
   ]
  },
  {
   "cell_type": "code",
   "execution_count": 86,
   "id": "778b0062-1742-4492-8829-62cbdc6009d0",
   "metadata": {},
   "outputs": [
    {
     "data": {
      "text/html": [
       "<div>\n",
       "<style scoped>\n",
       "    .dataframe tbody tr th:only-of-type {\n",
       "        vertical-align: middle;\n",
       "    }\n",
       "\n",
       "    .dataframe tbody tr th {\n",
       "        vertical-align: top;\n",
       "    }\n",
       "\n",
       "    .dataframe thead th {\n",
       "        text-align: right;\n",
       "    }\n",
       "</style>\n",
       "<table border=\"1\" class=\"dataframe\">\n",
       "  <thead>\n",
       "    <tr style=\"text-align: right;\">\n",
       "      <th></th>\n",
       "      <th>count</th>\n",
       "      <th>mean</th>\n",
       "      <th>std</th>\n",
       "      <th>min</th>\n",
       "      <th>25%</th>\n",
       "      <th>50%</th>\n",
       "      <th>75%</th>\n",
       "      <th>max</th>\n",
       "    </tr>\n",
       "    <tr>\n",
       "      <th>Status</th>\n",
       "      <th></th>\n",
       "      <th></th>\n",
       "      <th></th>\n",
       "      <th></th>\n",
       "      <th></th>\n",
       "      <th></th>\n",
       "      <th></th>\n",
       "      <th></th>\n",
       "    </tr>\n",
       "  </thead>\n",
       "  <tbody>\n",
       "    <tr>\n",
       "      <th>Certified</th>\n",
       "      <td>3069.0</td>\n",
       "      <td>50858.246986</td>\n",
       "      <td>37537.417609</td>\n",
       "      <td>8888.0</td>\n",
       "      <td>32000.0</td>\n",
       "      <td>41380.0</td>\n",
       "      <td>56980.0</td>\n",
       "      <td>679988.0</td>\n",
       "    </tr>\n",
       "    <tr>\n",
       "      <th>New</th>\n",
       "      <td>26601.0</td>\n",
       "      <td>61641.356791</td>\n",
       "      <td>33846.694894</td>\n",
       "      <td>5935.0</td>\n",
       "      <td>42820.0</td>\n",
       "      <td>54998.0</td>\n",
       "      <td>72230.0</td>\n",
       "      <td>563750.0</td>\n",
       "    </tr>\n",
       "    <tr>\n",
       "      <th>Used</th>\n",
       "      <td>19866.0</td>\n",
       "      <td>37434.631783</td>\n",
       "      <td>33314.677639</td>\n",
       "      <td>1990.0</td>\n",
       "      <td>20000.0</td>\n",
       "      <td>31000.0</td>\n",
       "      <td>45000.0</td>\n",
       "      <td>1299995.0</td>\n",
       "    </tr>\n",
       "  </tbody>\n",
       "</table>\n",
       "</div>"
      ],
      "text/plain": [
       "             count          mean           std     min      25%      50%  \\\n",
       "Status                                                                     \n",
       "Certified   3069.0  50858.246986  37537.417609  8888.0  32000.0  41380.0   \n",
       "New        26601.0  61641.356791  33846.694894  5935.0  42820.0  54998.0   \n",
       "Used       19866.0  37434.631783  33314.677639  1990.0  20000.0  31000.0   \n",
       "\n",
       "               75%        max  \n",
       "Status                         \n",
       "Certified  56980.0   679988.0  \n",
       "New        72230.0   563750.0  \n",
       "Used       45000.0  1299995.0  "
      ]
     },
     "execution_count": 86,
     "metadata": {},
     "output_type": "execute_result"
    }
   ],
   "source": [
    "price_distribution = df.groupby('Status')['Price'].describe()\n",
    "price_distribution"
   ]
  },
  {
   "cell_type": "code",
   "execution_count": 75,
   "id": "0281064d-f310-4005-b8bc-0101b133d929",
   "metadata": {},
   "outputs": [
    {
     "data": {
      "text/plain": [
       "Brand  Model  \n",
       "Acura  ILX         37429.173913\n",
       "       Integra      7595.483871\n",
       "       LS         131636.000000\n",
       "       MDX         49340.478947\n",
       "       NSX         14393.600000\n",
       "                      ...      \n",
       "Volvo  V90         28018.571429\n",
       "       XC40        27751.423077\n",
       "       XC60        41685.802817\n",
       "       XC70       107442.000000\n",
       "       XC90        43424.943089\n",
       "Name: Mileage, Length: 668, dtype: float64"
      ]
     },
     "execution_count": 75,
     "metadata": {},
     "output_type": "execute_result"
    }
   ],
   "source": [
    "# 3. Mileage Analysis\n",
    "# Average mileage by brand and model\n",
    "avg_mileage = df.groupby(['Brand', 'Model'])['Mileage'].mean()\n",
    "avg_mileage\n"
   ]
  },
  {
   "cell_type": "code",
   "execution_count": 24,
   "id": "1b7408ae-8b20-4d64-8584-1491ddb236e4",
   "metadata": {},
   "outputs": [
    {
     "data": {
      "text/plain": [
       "Dealer\n",
       "#1 Brookville Chevrolet Buick         48079.000000\n",
       "#1 Cochran Cadillac Monroeville       82407.500000\n",
       "#1 Cochran Chevrolet                  36727.000000\n",
       "#1 Cochran Chrysler Dodge Jeep Ram    56330.750000\n",
       "#1 Cochran Ford                       70456.666667\n",
       "Name: Price, dtype: float64"
      ]
     },
     "execution_count": 24,
     "metadata": {},
     "output_type": "execute_result"
    }
   ],
   "source": [
    "avg_price_by_dealer = df.groupby('Dealer')['Price'].mean()\n",
    "avg_price_by_dealer.head()"
   ]
  },
  {
   "cell_type": "code",
   "execution_count": 103,
   "id": "ed514954-04bd-49fe-98e2-2697f17b36cc",
   "metadata": {},
   "outputs": [
    {
     "data": {
      "image/png": "[encoded data removed]",
      "text/plain": [
       "<Figure size 640x480 with 1 Axes>"
      ]
     },
     "metadata": {},
     "output_type": "display_data"
    },
    {
     "data": {
      "text/plain": [
       "Price\n",
       "Medium    16517\n",
       "Low       16515\n",
       "High      16504\n",
       "Name: count, dtype: int64"
      ]
     },
     "execution_count": 103,
     "metadata": {},
     "output_type": "execute_result"
    }
   ],
   "source": [
    "# Presentation\n",
    "budget_segments = pd.qcut(df['Price'], q=3, labels=['Low', 'Medium', 'High'])\n",
    "segment_counts = budget_segments.value_counts()\n",
    "\n",
    "# Plot the distribution of budget segments\n",
    "plt.bar(segment_counts.index, segment_counts.values)\n",
    "plt.xlabel('Budget Segment')\n",
    "plt.ylabel('Count')\n",
    "plt.title('Distribution of Budget Segments')\n",
    "plt.show()\n",
    "segment_counts"
   ]
  },
  {
   "cell_type": "code",
   "execution_count": 78,
   "id": "2b44871e-ddd7-4c9d-842c-7f71d9227d34",
   "metadata": {},
   "outputs": [
    {
     "data": {
      "application/vnd.plotly.v1+json": {
       "config": {
        "plotlyServerURL": "https://plot.ly"
       },
       "data": [
        {
         "type": "bar",
         "x": [
          "Ford F-150",
          "Chevrolet Silverado",
          "GMC Sierra",
          "GMC Yukon",
          "Jeep Grand Cherokee",
          "RAM 1500",
          "Jeep Wrangler",
          "Ford Bronco",
          "Ford Mustang",
          "Toyota Tundra",
          "RAM 2500",
          "Ford Expedition",
          "Chevrolet Tahoe",
          "Chevrolet Corvette",
          "Cadillac Escalade",
          "Ford F-250",
          "Land Rover Range Rover",
          "Porsche 911",
          "BMW X5",
          "Toyota 4Runner"
         ],
         "y": [
          88402057,
          83729880,
          78334352,
          57451692,
          53396451,
          48425119,
          48320662,
          47498216,
          46117337,
          44734720,
          42341297,
          40346879,
          39268521,
          37819425,
          36336423,
          36276456,
          30457602,
          30084170,
          27804195,
          25983475
         ]
        }
       ],
       "layout": {
        "autosize": true,
        "template": {
         "data": {
          "bar": [
           {
            "error_x": {
             "color": "#2a3f5f"
            },
            "error_y": {
             "color": "#2a3f5f"
            },
            "marker": {
             "line": {
              "color": "#E5ECF6",
              "width": 0.5
             },
             "pattern": {
              "fillmode": "overlay",
              "size": 10,
              "solidity": 0.2
             }
            },
            "type": "bar"
           }
          ],
          "barpolar": [
           {
            "marker": {
             "line": {
              "color": "#E5ECF6",
              "width": 0.5
             },
             "pattern": {
              "fillmode": "overlay",
              "size": 10,
              "solidity": 0.2
             }
            },
            "type": "barpolar"
           }
          ],
          "carpet": [
           {
            "aaxis": {
             "endlinecolor": "#2a3f5f",
             "gridcolor": "white",
             "linecolor": "white",
             "minorgridcolor": "white",
             "startlinecolor": "#2a3f5f"
            },
            "baxis": {
             "endlinecolor": "#2a3f5f",
             "gridcolor": "white",
             "linecolor": "white",
             "minorgridcolor": "white",
             "startlinecolor": "#2a3f5f"
            },
            "type": "carpet"
           }
          ],
          "choropleth": [
           {
            "colorbar": {
             "outlinewidth": 0,
             "ticks": ""
            },
            "type": "choropleth"
           }
          ],
          "contour": [
           {
            "colorbar": {
             "outlinewidth": 0,
             "ticks": ""
            },
            "colorscale": [
             [
              0,
              "#0d0887"
             ],
             [
              0.1111111111111111,
              "#46039f"
             ],
             [
              0.2222222222222222,
              "#7201a8"
             ],
             [
              0.3333333333333333,
              "#9c179e"
             ],
             [
              0.4444444444444444,
              "#bd3786"
             ],
             [
              0.5555555555555556,
              "#d8576b"
             ],
             [
              0.6666666666666666,
              "#ed7953"
             ],
             [
              0.7777777777777778,
              "#fb9f3a"
             ],
             [
              0.8888888888888888,
              "#fdca26"
             ],
             [
              1,
              "#f0f921"
             ]
            ],
            "type": "contour"
           }
          ],
          "contourcarpet": [
           {
            "colorbar": {
             "outlinewidth": 0,
             "ticks": ""
            },
            "type": "contourcarpet"
           }
          ],
          "heatmap": [
           {
            "colorbar": {
             "outlinewidth": 0,
             "ticks": ""
            },
            "colorscale": [
             [
              0,
              "#0d0887"
             ],
             [
              0.1111111111111111,
              "#46039f"
             ],
             [
              0.2222222222222222,
              "#7201a8"
             ],
             [
              0.3333333333333333,
              "#9c179e"
             ],
             [
              0.4444444444444444,
              "#bd3786"
             ],
             [
              0.5555555555555556,
              "#d8576b"
             ],
             [
              0.6666666666666666,
              "#ed7953"
             ],
             [
              0.7777777777777778,
              "#fb9f3a"
             ],
             [
              0.8888888888888888,
              "#fdca26"
             ],
             [
              1,
              "#f0f921"
             ]
            ],
            "type": "heatmap"
           }
          ],
          "heatmapgl": [
           {
            "colorbar": {
             "outlinewidth": 0,
             "ticks": ""
            },
            "colorscale": [
             [
              0,
              "#0d0887"
             ],
             [
              0.1111111111111111,
              "#46039f"
             ],
             [
              0.2222222222222222,
              "#7201a8"
             ],
             [
              0.3333333333333333,
              "#9c179e"
             ],
             [
              0.4444444444444444,
              "#bd3786"
             ],
             [
              0.5555555555555556,
              "#d8576b"
             ],
             [
              0.6666666666666666,
              "#ed7953"
             ],
             [
              0.7777777777777778,
              "#fb9f3a"
             ],
             [
              0.8888888888888888,
              "#fdca26"
             ],
             [
              1,
              "#f0f921"
             ]
            ],
            "type": "heatmapgl"
           }
          ],
          "histogram": [
           {
            "marker": {
             "pattern": {
              "fillmode": "overlay",
              "size": 10,
              "solidity": 0.2
             }
            },
            "type": "histogram"
           }
          ],
          "histogram2d": [
           {
            "colorbar": {
             "outlinewidth": 0,
             "ticks": ""
            },
            "colorscale": [
             [
              0,
              "#0d0887"
             ],
             [
              0.1111111111111111,
              "#46039f"
             ],
             [
              0.2222222222222222,
              "#7201a8"
             ],
             [
              0.3333333333333333,
              "#9c179e"
             ],
             [
              0.4444444444444444,
              "#bd3786"
             ],
             [
              0.5555555555555556,
              "#d8576b"
             ],
             [
              0.6666666666666666,
              "#ed7953"
             ],
             [
              0.7777777777777778,
              "#fb9f3a"
             ],
             [
              0.8888888888888888,
              "#fdca26"
             ],
             [
              1,
              "#f0f921"
             ]
            ],
            "type": "histogram2d"
           }
          ],
          "histogram2dcontour": [
           {
            "colorbar": {
             "outlinewidth": 0,
             "ticks": ""
            },
            "colorscale": [
             [
              0,
              "#0d0887"
             ],
             [
              0.1111111111111111,
              "#46039f"
             ],
             [
              0.2222222222222222,
              "#7201a8"
             ],
             [
              0.3333333333333333,
              "#9c179e"
             ],
             [
              0.4444444444444444,
              "#bd3786"
             ],
             [
              0.5555555555555556,
              "#d8576b"
             ],
             [
              0.6666666666666666,
              "#ed7953"
             ],
             [
              0.7777777777777778,
              "#fb9f3a"
             ],
             [
              0.8888888888888888,
              "#fdca26"
             ],
             [
              1,
              "#f0f921"
             ]
            ],
            "type": "histogram2dcontour"
           }
          ],
          "mesh3d": [
           {
            "colorbar": {
             "outlinewidth": 0,
             "ticks": ""
            },
            "type": "mesh3d"
           }
          ],
          "parcoords": [
           {
            "line": {
             "colorbar": {
              "outlinewidth": 0,
              "ticks": ""
             }
            },
            "type": "parcoords"
           }
          ],
          "pie": [
           {
            "automargin": true,
            "type": "pie"
           }
          ],
          "scatter": [
           {
            "fillpattern": {
             "fillmode": "overlay",
             "size": 10,
             "solidity": 0.2
            },
            "type": "scatter"
           }
          ],
          "scatter3d": [
           {
            "line": {
             "colorbar": {
              "outlinewidth": 0,
              "ticks": ""
             }
            },
            "marker": {
             "colorbar": {
              "outlinewidth": 0,
              "ticks": ""
             }
            },
            "type": "scatter3d"
           }
          ],
          "scattercarpet": [
           {
            "marker": {
             "colorbar": {
              "outlinewidth": 0,
              "ticks": ""
             }
            },
            "type": "scattercarpet"
           }
          ],
          "scattergeo": [
           {
            "marker": {
             "colorbar": {
              "outlinewidth": 0,
              "ticks": ""
             }
            },
            "type": "scattergeo"
           }
          ],
          "scattergl": [
           {
            "marker": {
             "colorbar": {
              "outlinewidth": 0,
              "ticks": ""
             }
            },
            "type": "scattergl"
           }
          ],
          "scattermapbox": [
           {
            "marker": {
             "colorbar": {
              "outlinewidth": 0,
              "ticks": ""
             }
            },
            "type": "scattermapbox"
           }
          ],
          "scatterpolar": [
           {
            "marker": {
             "colorbar": {
              "outlinewidth": 0,
              "ticks": ""
             }
            },
            "type": "scatterpolar"
           }
          ],
          "scatterpolargl": [
           {
            "marker": {
             "colorbar": {
              "outlinewidth": 0,
              "ticks": ""
             }
            },
            "type": "scatterpolargl"
           }
          ],
          "scatterternary": [
           {
            "marker": {
             "colorbar": {
              "outlinewidth": 0,
              "ticks": ""
             }
            },
            "type": "scatterternary"
           }
          ],
          "surface": [
           {
            "colorbar": {
             "outlinewidth": 0,
             "ticks": ""
            },
            "colorscale": [
             [
              0,
              "#0d0887"
             ],
             [
              0.1111111111111111,
              "#46039f"
             ],
             [
              0.2222222222222222,
              "#7201a8"
             ],
             [
              0.3333333333333333,
              "#9c179e"
             ],
             [
              0.4444444444444444,
              "#bd3786"
             ],
             [
              0.5555555555555556,
              "#d8576b"
             ],
             [
              0.6666666666666666,
              "#ed7953"
             ],
             [
              0.7777777777777778,
              "#fb9f3a"
             ],
             [
              0.8888888888888888,
              "#fdca26"
             ],
             [
              1,
              "#f0f921"
             ]
            ],
            "type": "surface"
           }
          ],
          "table": [
           {
            "cells": {
             "fill": {
              "color": "#EBF0F8"
             },
             "line": {
              "color": "white"
             }
            },
            "header": {
             "fill": {
              "color": "#C8D4E3"
             },
             "line": {
              "color": "white"
             }
            },
            "type": "table"
           }
          ]
         },
         "layout": {
          "annotationdefaults": {
           "arrowcolor": "#2a3f5f",
           "arrowhead": 0,
           "arrowwidth": 1
          },
          "autotypenumbers": "strict",
          "coloraxis": {
           "colorbar": {
            "outlinewidth": 0,
            "ticks": ""
           }
          },
          "colorscale": {
           "diverging": [
            [
             0,
             "#8e0152"
            ],
            [
             0.1,
             "#c51b7d"
            ],
            [
             0.2,
             "#de77ae"
            ],
            [
             0.3,
             "#f1b6da"
            ],
            [
             0.4,
             "#fde0ef"
            ],
            [
             0.5,
             "#f7f7f7"
            ],
            [
             0.6,
             "#e6f5d0"
            ],
            [
             0.7,
             "#b8e186"
            ],
            [
             0.8,
             "#7fbc41"
            ],
            [
             0.9,
             "#4d9221"
            ],
            [
             1,
             "#276419"
            ]
           ],
           "sequential": [
            [
             0,
             "#0d0887"
            ],
            [
             0.1111111111111111,
             "#46039f"
            ],
            [
             0.2222222222222222,
             "#7201a8"
            ],
            [
             0.3333333333333333,
             "#9c179e"
            ],
            [
             0.4444444444444444,
             "#bd3786"
            ],
            [
             0.5555555555555556,
             "#d8576b"
            ],
            [
             0.6666666666666666,
             "#ed7953"
            ],
            [
             0.7777777777777778,
             "#fb9f3a"
            ],
            [
             0.8888888888888888,
             "#fdca26"
            ],
            [
             1,
             "#f0f921"
            ]
           ],
           "sequentialminus": [
            [
             0,
             "#0d0887"
            ],
            [
             0.1111111111111111,
             "#46039f"
            ],
            [
             0.2222222222222222,
             "#7201a8"
            ],
            [
             0.3333333333333333,
             "#9c179e"
            ],
            [
             0.4444444444444444,
             "#bd3786"
            ],
            [
             0.5555555555555556,
             "#d8576b"
            ],
            [
             0.6666666666666666,
             "#ed7953"
            ],
            [
             0.7777777777777778,
             "#fb9f3a"
            ],
            [
             0.8888888888888888,
             "#fdca26"
            ],
            [
             1,
             "#f0f921"
            ]
           ]
          },
          "colorway": [
           "#636efa",
           "#EF553B",
           "#00cc96",
           "#ab63fa",
           "#FFA15A",
           "#19d3f3",
           "#FF6692",
           "#B6E880",
           "#FF97FF",
           "#FECB52"
          ],
          "font": {
           "color": "#2a3f5f"
          },
          "geo": {
           "bgcolor": "white",
           "lakecolor": "white",
           "landcolor": "#E5ECF6",
           "showlakes": true,
           "showland": true,
           "subunitcolor": "white"
          },
          "hoverlabel": {
           "align": "left"
          },
          "hovermode": "closest",
          "mapbox": {
           "style": "light"
          },
          "paper_bgcolor": "white",
          "plot_bgcolor": "#E5ECF6",
          "polar": {
           "angularaxis": {
            "gridcolor": "white",
            "linecolor": "white",
            "ticks": ""
           },
           "bgcolor": "#E5ECF6",
           "radialaxis": {
            "gridcolor": "white",
            "linecolor": "white",
            "ticks": ""
           }
          },
          "scene": {
           "xaxis": {
            "backgroundcolor": "#E5ECF6",
            "gridcolor": "white",
            "gridwidth": 2,
            "linecolor": "white",
            "showbackground": true,
            "ticks": "",
            "zerolinecolor": "white"
           },
           "yaxis": {
            "backgroundcolor": "#E5ECF6",
            "gridcolor": "white",
            "gridwidth": 2,
            "linecolor": "white",
            "showbackground": true,
            "ticks": "",
            "zerolinecolor": "white"
           },
           "zaxis": {
            "backgroundcolor": "#E5ECF6",
            "gridcolor": "white",
            "gridwidth": 2,
            "linecolor": "white",
            "showbackground": true,
            "ticks": "",
            "zerolinecolor": "white"
           }
          },
          "shapedefaults": {
           "line": {
            "color": "#2a3f5f"
           }
          },
          "ternary": {
           "aaxis": {
            "gridcolor": "white",
            "linecolor": "white",
            "ticks": ""
           },
           "baxis": {
            "gridcolor": "white",
            "linecolor": "white",
            "ticks": ""
           },
           "bgcolor": "#E5ECF6",
           "caxis": {
            "gridcolor": "white",
            "linecolor": "white",
            "ticks": ""
           }
          },
          "title": {
           "x": 0.05
          },
          "xaxis": {
           "automargin": true,
           "gridcolor": "white",
           "linecolor": "white",
           "ticks": "",
           "title": {
            "standoff": 15
           },
           "zerolinecolor": "white",
           "zerolinewidth": 2
          },
          "yaxis": {
           "automargin": true,
           "gridcolor": "white",
           "linecolor": "white",
           "ticks": "",
           "title": {
            "standoff": 15
           },
           "zerolinecolor": "white",
           "zerolinewidth": 2
          }
         }
        },
        "title": {
         "text": "Top 20 Car Models and Total Price"
        },
        "xaxis": {
         "autorange": true,
         "range": [
          -0.5,
          19.5
         ],
         "title": {
          "text": "Models"
         },
         "type": "category"
        },
        "yaxis": {
         "autorange": true,
         "range": [
          0,
          93054796.84210527
         ],
         "title": {
          "text": "Price"
         },
         "type": "linear"
        }
       }
      },
      "image/png": "[encoded data removed]",
      "text/html": [
       "<div>                            <div id=\"c62edf54-8e64-4fe1-af56-fd95501fb2d5\" class=\"plotly-graph-div\" style=\"height:525px; width:100%;\"></div>            <script type=\"text/javascript\">                require([\"plotly\"], function(Plotly) {                    window.PLOTLYENV=window.PLOTLYENV || {};                                    if (document.getElementById(\"c62edf54-8e64-4fe1-af56-fd95501fb2d5\")) {                    Plotly.newPlot(                        \"c62edf54-8e64-4fe1-af56-fd95501fb2d5\",                        [{\"x\":[\"Ford F-150\",\"Chevrolet Silverado\",\"GMC Sierra\",\"GMC Yukon\",\"Jeep Grand Cherokee\",\"RAM 1500\",\"Jeep Wrangler\",\"Ford Bronco\",\"Ford Mustang\",\"Toyota Tundra\",\"RAM 2500\",\"Ford Expedition\",\"Chevrolet Tahoe\",\"Chevrolet Corvette\",\"Cadillac Escalade\",\"Ford F-250\",\"Land Rover Range Rover\",\"Porsche 911\",\"BMW X5\",\"Toyota 4Runner\"],\"y\":[88402057.0,83729880.0,78334352.0,57451692.0,53396451.0,48425119.0,48320662.0,47498216.0,46117337.0,44734720.0,42341297.0,40346879.0,39268521.0,37819425.0,36336423.0,36276456.0,30457602.0,30084170.0,27804195.0,25983475.0],\"type\":\"bar\"}],                        {\"template\":{\"data\":{\"histogram2dcontour\":[{\"type\":\"histogram2dcontour\",\"colorbar\":{\"outlinewidth\":0,\"ticks\":\"\"},\"colorscale\":[[0.0,\"#0d0887\"],[0.1111111111111111,\"#46039f\"],[0.2222222222222222,\"#7201a8\"],[0.3333333333333333,\"#9c179e\"],[0.4444444444444444,\"#bd3786\"],[0.5555555555555556,\"#d8576b\"],[0.6666666666666666,\"#ed7953\"],[0.7777777777777778,\"#fb9f3a\"],[0.8888888888888888,\"#fdca26\"],[1.0,\"#f0f921\"]]}],\"choropleth\":[{\"type\":\"choropleth\",\"colorbar\":{\"outlinewidth\":0,\"ticks\":\"\"}}],\"histogram2d\":[{\"type\":\"histogram2d\",\"colorbar\":{\"outlinewidth\":0,\"ticks\":\"\"},\"colorscale\":[[0.0,\"#0d0887\"],[0.1111111111111111,\"#46039f\"],[0.2222222222222222,\"#7201a8\"],[0.3333333333333333,\"#9c179e\"],[0.4444444444444444,\"#bd3786\"],[0.5555555555555556,\"#d8576b\"],[0.6666666666666666,\"#ed7953\"],[0.7777777777777778,\"#fb9f3a\"],[0.8888888888888888,\"#fdca26\"],[1.0,\"#f0f921\"]]}],\"heatmap\":[{\"type\":\"heatmap\",\"colorbar\":{\"outlinewidth\":0,\"ticks\":\"\"},\"colorscale\":[[0.0,\"#0d0887\"],[0.1111111111111111,\"#46039f\"],[0.2222222222222222,\"#7201a8\"],[0.3333333333333333,\"#9c179e\"],[0.4444444444444444,\"#bd3786\"],[0.5555555555555556,\"#d8576b\"],[0.6666666666666666,\"#ed7953\"],[0.7777777777777778,\"#fb9f3a\"],[0.8888888888888888,\"#fdca26\"],[1.0,\"#f0f921\"]]}],\"heatmapgl\":[{\"type\":\"heatmapgl\",\"colorbar\":{\"outlinewidth\":0,\"ticks\":\"\"},\"colorscale\":[[0.0,\"#0d0887\"],[0.1111111111111111,\"#46039f\"],[0.2222222222222222,\"#7201a8\"],[0.3333333333333333,\"#9c179e\"],[0.4444444444444444,\"#bd3786\"],[0.5555555555555556,\"#d8576b\"],[0.6666666666666666,\"#ed7953\"],[0.7777777777777778,\"#fb9f3a\"],[0.8888888888888888,\"#fdca26\"],[1.0,\"#f0f921\"]]}],\"contourcarpet\":[{\"type\":\"contourcarpet\",\"colorbar\":{\"outlinewidth\":0,\"ticks\":\"\"}}],\"contour\":[{\"type\":\"contour\",\"colorbar\":{\"outlinewidth\":0,\"ticks\":\"\"},\"colorscale\":[[0.0,\"#0d0887\"],[0.1111111111111111,\"#46039f\"],[0.2222222222222222,\"#7201a8\"],[0.3333333333333333,\"#9c179e\"],[0.4444444444444444,\"#bd3786\"],[0.5555555555555556,\"#d8576b\"],[0.6666666666666666,\"#ed7953\"],[0.7777777777777778,\"#fb9f3a\"],[0.8888888888888888,\"#fdca26\"],[1.0,\"#f0f921\"]]}],\"surface\":[{\"type\":\"surface\",\"colorbar\":{\"outlinewidth\":0,\"ticks\":\"\"},\"colorscale\":[[0.0,\"#0d0887\"],[0.1111111111111111,\"#46039f\"],[0.2222222222222222,\"#7201a8\"],[0.3333333333333333,\"#9c179e\"],[0.4444444444444444,\"#bd3786\"],[0.5555555555555556,\"#d8576b\"],[0.6666666666666666,\"#ed7953\"],[0.7777777777777778,\"#fb9f3a\"],[0.8888888888888888,\"#fdca26\"],[1.0,\"#f0f921\"]]}],\"mesh3d\":[{\"type\":\"mesh3d\",\"colorbar\":{\"outlinewidth\":0,\"ticks\":\"\"}}],\"scatter\":[{\"fillpattern\":{\"fillmode\":\"overlay\",\"size\":10,\"solidity\":0.2},\"type\":\"scatter\"}],\"parcoords\":[{\"type\":\"parcoords\",\"line\":{\"colorbar\":{\"outlinewidth\":0,\"ticks\":\"\"}}}],\"scatterpolargl\":[{\"type\":\"scatterpolargl\",\"marker\":{\"colorbar\":{\"outlinewidth\":0,\"ticks\":\"\"}}}],\"bar\":[{\"error_x\":{\"color\":\"#2a3f5f\"},\"error_y\":{\"color\":\"#2a3f5f\"},\"marker\":{\"line\":{\"color\":\"#E5ECF6\",\"width\":0.5},\"pattern\":{\"fillmode\":\"overlay\",\"size\":10,\"solidity\":0.2}},\"type\":\"bar\"}],\"scattergeo\":[{\"type\":\"scattergeo\",\"marker\":{\"colorbar\":{\"outlinewidth\":0,\"ticks\":\"\"}}}],\"scatterpolar\":[{\"type\":\"scatterpolar\",\"marker\":{\"colorbar\":{\"outlinewidth\":0,\"ticks\":\"\"}}}],\"histogram\":[{\"marker\":{\"pattern\":{\"fillmode\":\"overlay\",\"size\":10,\"solidity\":0.2}},\"type\":\"histogram\"}],\"scattergl\":[{\"type\":\"scattergl\",\"marker\":{\"colorbar\":{\"outlinewidth\":0,\"ticks\":\"\"}}}],\"scatter3d\":[{\"type\":\"scatter3d\",\"line\":{\"colorbar\":{\"outlinewidth\":0,\"ticks\":\"\"}},\"marker\":{\"colorbar\":{\"outlinewidth\":0,\"ticks\":\"\"}}}],\"scattermapbox\":[{\"type\":\"scattermapbox\",\"marker\":{\"colorbar\":{\"outlinewidth\":0,\"ticks\":\"\"}}}],\"scatterternary\":[{\"type\":\"scatterternary\",\"marker\":{\"colorbar\":{\"outlinewidth\":0,\"ticks\":\"\"}}}],\"scattercarpet\":[{\"type\":\"scattercarpet\",\"marker\":{\"colorbar\":{\"outlinewidth\":0,\"ticks\":\"\"}}}],\"carpet\":[{\"aaxis\":{\"endlinecolor\":\"#2a3f5f\",\"gridcolor\":\"white\",\"linecolor\":\"white\",\"minorgridcolor\":\"white\",\"startlinecolor\":\"#2a3f5f\"},\"baxis\":{\"endlinecolor\":\"#2a3f5f\",\"gridcolor\":\"white\",\"linecolor\":\"white\",\"minorgridcolor\":\"white\",\"startlinecolor\":\"#2a3f5f\"},\"type\":\"carpet\"}],\"table\":[{\"cells\":{\"fill\":{\"color\":\"#EBF0F8\"},\"line\":{\"color\":\"white\"}},\"header\":{\"fill\":{\"color\":\"#C8D4E3\"},\"line\":{\"color\":\"white\"}},\"type\":\"table\"}],\"barpolar\":[{\"marker\":{\"line\":{\"color\":\"#E5ECF6\",\"width\":0.5},\"pattern\":{\"fillmode\":\"overlay\",\"size\":10,\"solidity\":0.2}},\"type\":\"barpolar\"}],\"pie\":[{\"automargin\":true,\"type\":\"pie\"}]},\"layout\":{\"autotypenumbers\":\"strict\",\"colorway\":[\"#636efa\",\"#EF553B\",\"#00cc96\",\"#ab63fa\",\"#FFA15A\",\"#19d3f3\",\"#FF6692\",\"#B6E880\",\"#FF97FF\",\"#FECB52\"],\"font\":{\"color\":\"#2a3f5f\"},\"hovermode\":\"closest\",\"hoverlabel\":{\"align\":\"left\"},\"paper_bgcolor\":\"white\",\"plot_bgcolor\":\"#E5ECF6\",\"polar\":{\"bgcolor\":\"#E5ECF6\",\"angularaxis\":{\"gridcolor\":\"white\",\"linecolor\":\"white\",\"ticks\":\"\"},\"radialaxis\":{\"gridcolor\":\"white\",\"linecolor\":\"white\",\"ticks\":\"\"}},\"ternary\":{\"bgcolor\":\"#E5ECF6\",\"aaxis\":{\"gridcolor\":\"white\",\"linecolor\":\"white\",\"ticks\":\"\"},\"baxis\":{\"gridcolor\":\"white\",\"linecolor\":\"white\",\"ticks\":\"\"},\"caxis\":{\"gridcolor\":\"white\",\"linecolor\":\"white\",\"ticks\":\"\"}},\"coloraxis\":{\"colorbar\":{\"outlinewidth\":0,\"ticks\":\"\"}},\"colorscale\":{\"sequential\":[[0.0,\"#0d0887\"],[0.1111111111111111,\"#46039f\"],[0.2222222222222222,\"#7201a8\"],[0.3333333333333333,\"#9c179e\"],[0.4444444444444444,\"#bd3786\"],[0.5555555555555556,\"#d8576b\"],[0.6666666666666666,\"#ed7953\"],[0.7777777777777778,\"#fb9f3a\"],[0.8888888888888888,\"#fdca26\"],[1.0,\"#f0f921\"]],\"sequentialminus\":[[0.0,\"#0d0887\"],[0.1111111111111111,\"#46039f\"],[0.2222222222222222,\"#7201a8\"],[0.3333333333333333,\"#9c179e\"],[0.4444444444444444,\"#bd3786\"],[0.5555555555555556,\"#d8576b\"],[0.6666666666666666,\"#ed7953\"],[0.7777777777777778,\"#fb9f3a\"],[0.8888888888888888,\"#fdca26\"],[1.0,\"#f0f921\"]],\"diverging\":[[0,\"#8e0152\"],[0.1,\"#c51b7d\"],[0.2,\"#de77ae\"],[0.3,\"#f1b6da\"],[0.4,\"#fde0ef\"],[0.5,\"#f7f7f7\"],[0.6,\"#e6f5d0\"],[0.7,\"#b8e186\"],[0.8,\"#7fbc41\"],[0.9,\"#4d9221\"],[1,\"#276419\"]]},\"xaxis\":{\"gridcolor\":\"white\",\"linecolor\":\"white\",\"ticks\":\"\",\"title\":{\"standoff\":15},\"zerolinecolor\":\"white\",\"automargin\":true,\"zerolinewidth\":2},\"yaxis\":{\"gridcolor\":\"white\",\"linecolor\":\"white\",\"ticks\":\"\",\"title\":{\"standoff\":15},\"zerolinecolor\":\"white\",\"automargin\":true,\"zerolinewidth\":2},\"scene\":{\"xaxis\":{\"backgroundcolor\":\"#E5ECF6\",\"gridcolor\":\"white\",\"linecolor\":\"white\",\"showbackground\":true,\"ticks\":\"\",\"zerolinecolor\":\"white\",\"gridwidth\":2},\"yaxis\":{\"backgroundcolor\":\"#E5ECF6\",\"gridcolor\":\"white\",\"linecolor\":\"white\",\"showbackground\":true,\"ticks\":\"\",\"zerolinecolor\":\"white\",\"gridwidth\":2},\"zaxis\":{\"backgroundcolor\":\"#E5ECF6\",\"gridcolor\":\"white\",\"linecolor\":\"white\",\"showbackground\":true,\"ticks\":\"\",\"zerolinecolor\":\"white\",\"gridwidth\":2}},\"shapedefaults\":{\"line\":{\"color\":\"#2a3f5f\"}},\"annotationdefaults\":{\"arrowcolor\":\"#2a3f5f\",\"arrowhead\":0,\"arrowwidth\":1},\"geo\":{\"bgcolor\":\"white\",\"landcolor\":\"#E5ECF6\",\"subunitcolor\":\"white\",\"showland\":true,\"showlakes\":true,\"lakecolor\":\"white\"},\"title\":{\"x\":0.05},\"mapbox\":{\"style\":\"light\"}}},\"title\":{\"text\":\"Top 20 Car Models and Total Price\"},\"xaxis\":{\"title\":{\"text\":\"Models\"}},\"yaxis\":{\"title\":{\"text\":\"Price\"}}},                        {\"responsive\": true}                    ).then(function(){\n",
       "                            \n",
       "var gd = document.getElementById('c62edf54-8e64-4fe1-af56-fd95501fb2d5');\n",
       "var x = new MutationObserver(function (mutations, observer) {{\n",
       "        var display = window.getComputedStyle(gd).display;\n",
       "        if (!display || display === 'none') {{\n",
       "            console.log([gd, 'removed!']);\n",
       "            Plotly.purge(gd);\n",
       "            observer.disconnect();\n",
       "        }}\n",
       "}});\n",
       "\n",
       "// Listen for the removal of the full notebook cells\n",
       "var notebookContainer = gd.closest('#notebook-container');\n",
       "if (notebookContainer) {{\n",
       "    x.observe(notebookContainer, {childList: true});\n",
       "}}\n",
       "\n",
       "// Listen for the clearing of the current output cell\n",
       "var outputEl = gd.closest('.output');\n",
       "if (outputEl) {{\n",
       "    x.observe(outputEl, {childList: true});\n",
       "}}\n",
       "\n",
       "                        })                };                });            </script>        </div>"
      ]
     },
     "metadata": {},
     "output_type": "display_data"
    }
   ],
   "source": [
    "\n",
    "filter=df.groupby(by=['Company_Model']).agg({'Price':'sum'})\n",
    "car_style=filter.sort_values(by='Price',ascending=False).head(20)\n",
    "fig = go.Figure(data=[\n",
    "    go.Bar(x=car_style.index,y=car_style.Price)\n",
    "    ])\n",
    "\n",
    "fig.update_layout(\n",
    "    title='Top 20 Car Models and Total Price',\n",
    "    xaxis_title='Models',\n",
    "    yaxis_title='Price'\n",
    ")\n",
    "\n",
    "fig.show()"
   ]
  },
  {
   "cell_type": "code",
   "execution_count": 96,
   "id": "2722d5ba-fc3f-4c43-bda2-84701b9a912c",
   "metadata": {},
   "outputs": [
    {
     "data": {
      "image/png": "[encoded data removed]",
      "text/plain": [
       "<Figure size 640x480 with 1 Axes>"
      ]
     },
     "metadata": {},
     "output_type": "display_data"
    }
   ],
   "source": [
    "df_2023 = df[df['Year'] == 2023]\n",
    "\n",
    "# Get unique brands\n",
    "brands = df_2023['Brand'].unique()\n",
    "\n",
    "# For each brand, group by 'Status' and calculate sum of 'Price'\n",
    "for brand in brands:\n",
    "    df_brand = df_2023[df_2023['Brand'] == brand]\n",
    "    sales_by_status = df_brand.groupby('Status')['Price'].sum()\n",
    "    \n",
    "    # Create bar plot\n",
    "    sales_by_status.plot(kind='bar', title=f'{brand} sales for 2023')\n",
    "    plt.gcf().axes[0].yaxis.get_major_formatter().set_scientific(False)\n",
    "    plt.xlabel('Status')\n",
    "    plt.ylabel('Total Sales')\n",
    "    plt.show()\n",
    "    \n",
    "    time.sleep(1)  # Wait for 1 second\n",
    "    clear_output(wait=True)  # Clear output"
   ]
  },
  {
   "cell_type": "code",
   "execution_count": null,
   "id": "9a266c9b-3208-4252-a5f9-62ae5f6f1b4d",
   "metadata": {},
   "outputs": [],
   "source": []
  }
 ],
 "metadata": {
  "kernelspec": {
   "display_name": "naya_venv",
   "language": "python",
   "name": "naya_venv"
  },
  "language_info": {
   "codemirror_mode": {
    "name": "ipython",
    "version": 3
   },
   "file_extension": ".py",
   "mimetype": "text/x-python",
   "name": "python",
   "nbconvert_exporter": "python",
   "pygments_lexer": "ipython3",
   "version": "3.11.3"
  }
 },
 "nbformat": 4,
 "nbformat_minor": 5
}
