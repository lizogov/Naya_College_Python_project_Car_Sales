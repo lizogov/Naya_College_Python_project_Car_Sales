{
 "cells": [
  {
   "cell_type": "code",
   "execution_count": 1,
   "id": "3f1f4fbf-0499-4764-b4ce-2ceda8567029",
   "metadata": {},
   "outputs": [
    {
     "name": "stdout",
     "output_type": "stream",
     "text": [
      "Requirement already satisfied: openpyxl in c:\\programdata\\anaconda3\\lib\\site-packages (3.0.10)\n",
      "Requirement already satisfied: et_xmlfile in c:\\programdata\\anaconda3\\lib\\site-packages (from openpyxl) (1.1.0)\n"
     ]
    }
   ],
   "source": [
    "import pandas as pd \n",
    "!pip install openpyxl"
   ]
  },
  {
   "cell_type": "code",
   "execution_count": 2,
   "id": "02f5638d-5098-4135-b0d3-2861c9c34040",
   "metadata": {},
   "outputs": [],
   "source": [
    "df = pd.ExcelFile(\"מבדק אקסל מחלקת כספים.xlsx\")\n",
    "df_data = pd.read_excel(df, 'Data')"
   ]
  },
  {
   "cell_type": "code",
   "execution_count": 10,
   "id": "b28c553e-fb1d-4a00-8ea3-0c1dc047948b",
   "metadata": {},
   "outputs": [
    {
     "data": {
      "text/html": [
       "<div>\n",
       "<style scoped>\n",
       "    .dataframe tbody tr th:only-of-type {\n",
       "        vertical-align: middle;\n",
       "    }\n",
       "\n",
       "    .dataframe tbody tr th {\n",
       "        vertical-align: top;\n",
       "    }\n",
       "\n",
       "    .dataframe thead th {\n",
       "        text-align: right;\n",
       "    }\n",
       "</style>\n",
       "<table border=\"1\" class=\"dataframe\">\n",
       "  <thead>\n",
       "    <tr style=\"text-align: right;\">\n",
       "      <th></th>\n",
       "      <th>שם חברה</th>\n",
       "      <th>שם מסעדה</th>\n",
       "      <th>כמות עסקאות</th>\n",
       "      <th>TA /ישיבה/ משלוחים</th>\n",
       "      <th>חודש</th>\n",
       "      <th>סוג מטבח</th>\n",
       "      <th>סכום העסקה כולל מעמ</th>\n",
       "    </tr>\n",
       "  </thead>\n",
       "  <tbody>\n",
       "    <tr>\n",
       "      <th>0</th>\n",
       "      <td>חברה1</td>\n",
       "      <td>buy the way - כפר סבא</td>\n",
       "      <td>1</td>\n",
       "      <td>ישיבה</td>\n",
       "      <td>אוקטובר</td>\n",
       "      <td>בית קפה</td>\n",
       "      <td>12.820513</td>\n",
       "    </tr>\n",
       "    <tr>\n",
       "      <th>1</th>\n",
       "      <td>חברה1</td>\n",
       "      <td>hiro שרונה - תל אביב</td>\n",
       "      <td>1</td>\n",
       "      <td>ישיבה</td>\n",
       "      <td>אוקטובר</td>\n",
       "      <td>אסיאתי</td>\n",
       "      <td>49.572650</td>\n",
       "    </tr>\n",
       "    <tr>\n",
       "      <th>2</th>\n",
       "      <td>חברה1</td>\n",
       "      <td>wok to wolk שרונה - תל אביב</td>\n",
       "      <td>4</td>\n",
       "      <td>ישיבה</td>\n",
       "      <td>אוקטובר</td>\n",
       "      <td>אסיאתי</td>\n",
       "      <td>128.205128</td>\n",
       "    </tr>\n",
       "    <tr>\n",
       "      <th>3</th>\n",
       "      <td>חברה1</td>\n",
       "      <td>wok to wolk שרונה - תל אביב</td>\n",
       "      <td>2</td>\n",
       "      <td>ישיבה</td>\n",
       "      <td>נובמבר</td>\n",
       "      <td>אסיאתי</td>\n",
       "      <td>59.316239</td>\n",
       "    </tr>\n",
       "    <tr>\n",
       "      <th>4</th>\n",
       "      <td>חברה1</td>\n",
       "      <td>אושי אושי - גבעתיים</td>\n",
       "      <td>1</td>\n",
       "      <td>משלוחים</td>\n",
       "      <td>אוקטובר</td>\n",
       "      <td>יפני/סושי</td>\n",
       "      <td>91.538462</td>\n",
       "    </tr>\n",
       "    <tr>\n",
       "      <th>...</th>\n",
       "      <td>...</td>\n",
       "      <td>...</td>\n",
       "      <td>...</td>\n",
       "      <td>...</td>\n",
       "      <td>...</td>\n",
       "      <td>...</td>\n",
       "      <td>...</td>\n",
       "    </tr>\n",
       "    <tr>\n",
       "      <th>10113</th>\n",
       "      <td>חברה55</td>\n",
       "      <td>גמס ביר פקטורי - שוק הצפון רמת החייל</td>\n",
       "      <td>1</td>\n",
       "      <td>ישיבה</td>\n",
       "      <td>נובמבר</td>\n",
       "      <td>בר</td>\n",
       "      <td>46.153846</td>\n",
       "    </tr>\n",
       "    <tr>\n",
       "      <th>10114</th>\n",
       "      <td>חברה55</td>\n",
       "      <td>גפניקה - נתניה פולג</td>\n",
       "      <td>13</td>\n",
       "      <td>ישיבה</td>\n",
       "      <td>ספטמבר</td>\n",
       "      <td>יפני/סושי</td>\n",
       "      <td>662.393162</td>\n",
       "    </tr>\n",
       "    <tr>\n",
       "      <th>10115</th>\n",
       "      <td>חברה55</td>\n",
       "      <td>גפניקה - נתניה פולג</td>\n",
       "      <td>13</td>\n",
       "      <td>ישיבה</td>\n",
       "      <td>אוקטובר</td>\n",
       "      <td>יפני/סושי</td>\n",
       "      <td>684.615385</td>\n",
       "    </tr>\n",
       "    <tr>\n",
       "      <th>10116</th>\n",
       "      <td>חברה55</td>\n",
       "      <td>גפניקה - נתניה פולג</td>\n",
       "      <td>18</td>\n",
       "      <td>ישיבה</td>\n",
       "      <td>נובמבר</td>\n",
       "      <td>יפני/סושי</td>\n",
       "      <td>950.427350</td>\n",
       "    </tr>\n",
       "    <tr>\n",
       "      <th>10117</th>\n",
       "      <td>חברה55</td>\n",
       "      <td>גפניקה - רעננה</td>\n",
       "      <td>1</td>\n",
       "      <td>ישיבה</td>\n",
       "      <td>אוקטובר</td>\n",
       "      <td>יפני/סושי</td>\n",
       "      <td>39.316239</td>\n",
       "    </tr>\n",
       "  </tbody>\n",
       "</table>\n",
       "<p>10118 rows × 7 columns</p>\n",
       "</div>"
      ],
      "text/plain": [
       "      שם חברה                               שם מסעדה  כמות עסקאות  \\\n",
       "0        חברה1                 buy the way - כפר סבא            1   \n",
       "1        חברה1                  hiro שרונה - תל אביב            1   \n",
       "2        חברה1           wok to wolk שרונה - תל אביב            4   \n",
       "3        חברה1           wok to wolk שרונה - תל אביב            2   \n",
       "4        חברה1                   אושי אושי - גבעתיים            1   \n",
       "...        ...                                   ...          ...   \n",
       "10113   חברה55  גמס ביר פקטורי - שוק הצפון רמת החייל            1   \n",
       "10114   חברה55                   גפניקה - נתניה פולג           13   \n",
       "10115   חברה55                   גפניקה - נתניה פולג           13   \n",
       "10116   חברה55                   גפניקה - נתניה פולג           18   \n",
       "10117   חברה55                        גפניקה - רעננה            1   \n",
       "\n",
       "      TA /ישיבה/ משלוחים     חודש   סוג מטבח  סכום העסקה כולל מעמ   \n",
       "0                  ישיבה  אוקטובר    בית קפה             12.820513  \n",
       "1                  ישיבה  אוקטובר     אסיאתי             49.572650  \n",
       "2                  ישיבה  אוקטובר     אסיאתי            128.205128  \n",
       "3                  ישיבה   נובמבר     אסיאתי             59.316239  \n",
       "4                משלוחים  אוקטובר  יפני/סושי             91.538462  \n",
       "...                  ...      ...        ...                   ...  \n",
       "10113              ישיבה   נובמבר         בר             46.153846  \n",
       "10114              ישיבה   ספטמבר  יפני/סושי            662.393162  \n",
       "10115              ישיבה  אוקטובר  יפני/סושי            684.615385  \n",
       "10116              ישיבה   נובמבר  יפני/סושי            950.427350  \n",
       "10117              ישיבה  אוקטובר  יפני/סושי             39.316239  \n",
       "\n",
       "[10118 rows x 7 columns]"
      ]
     },
     "execution_count": 10,
     "metadata": {},
     "output_type": "execute_result"
    }
   ],
   "source": [
    "df_data"
   ]
  },
  {
   "cell_type": "code",
   "execution_count": 11,
   "id": "1202f9ad-52c0-42c0-a83c-ccd7b2667f33",
   "metadata": {},
   "outputs": [
    {
     "data": {
      "text/plain": [
       "['שם חברה ',\n",
       " 'שם מסעדה',\n",
       " 'כמות עסקאות',\n",
       " 'TA /ישיבה/ משלוחים',\n",
       " 'חודש',\n",
       " 'סוג מטבח',\n",
       " 'סכום העסקה כולל מעמ ']"
      ]
     },
     "execution_count": 11,
     "metadata": {},
     "output_type": "execute_result"
    }
   ],
   "source": [
    "list(df_data.columns)"
   ]
  },
  {
   "cell_type": "markdown",
   "id": "0463f5ff-e709-43db-98f1-104dc1547e31",
   "metadata": {},
   "source": [
    "מהו סכום העסקאות הכולל: 1"
   ]
  },
  {
   "cell_type": "code",
   "execution_count": 12,
   "id": "3131162a-b65b-4a39-b51a-38e6aa6d2f51",
   "metadata": {},
   "outputs": [
    {
     "data": {
      "text/plain": [
       "3464088.282051282"
      ]
     },
     "execution_count": 12,
     "metadata": {},
     "output_type": "execute_result"
    }
   ],
   "source": [
    "df_data['סכום העסקה כולל מעמ '].sum()"
   ]
  },
  {
   "cell_type": "code",
   "execution_count": 13,
   "id": "a815ba51-348d-4908-9049-b7f9fe4506df",
   "metadata": {},
   "outputs": [],
   "source": [
    "#df_data['שם מסעדה'].tolist()"
   ]
  },
  {
   "cell_type": "code",
   "execution_count": 43,
   "id": "45d07b69-6be6-4231-b560-16852b6b2c37",
   "metadata": {},
   "outputs": [],
   "source": [
    "filter_october = df_data['חודש'] =='אוקטובר'\n",
    "filter_november =  df_data['חודש'] =='נובמבר'\n",
    "filter_september =  df_data['חודש'] =='ספטמבר'\n",
    "filter_one_transaction = df_data[\"כמות עסקאות\"] ==1"
   ]
  },
  {
   "cell_type": "code",
   "execution_count": 49,
   "id": "f2d9a83a-328f-4a71-a221-218002eb77ff",
   "metadata": {},
   "outputs": [
    {
     "name": "stderr",
     "output_type": "stream",
     "text": [
      "C:\\Users\\User\\AppData\\Local\\Temp\\ipykernel_18424\\1874264821.py:1: UserWarning: Boolean Series key will be reindexed to match DataFrame index.\n",
      "  un_transakt_sept = (df_data[filter_september][filter_one_transaction]['שם מסעדה'].value_counts()==1).sum()\n"
     ]
    },
    {
     "data": {
      "text/plain": [
       "803"
      ]
     },
     "execution_count": 49,
     "metadata": {},
     "output_type": "execute_result"
    }
   ],
   "source": [
    "un_transakt_sept = (df_data[filter_september][filter_one_transaction]['שם מסעדה'].value_counts()==1).sum()\n",
    "un_transakt_sept"
   ]
  },
  {
   "cell_type": "code",
   "execution_count": 50,
   "id": "32e8a103-7324-4e50-ba91-518e86a0aa7d",
   "metadata": {},
   "outputs": [
    {
     "name": "stderr",
     "output_type": "stream",
     "text": [
      "C:\\Users\\User\\AppData\\Local\\Temp\\ipykernel_18424\\1452864142.py:1: UserWarning: Boolean Series key will be reindexed to match DataFrame index.\n",
      "  un_transakt_oct = (df_data[filter_october][filter_one_transaction]['שם מסעדה'].value_counts()==1).sum()\n"
     ]
    },
    {
     "data": {
      "text/plain": [
       "897"
      ]
     },
     "execution_count": 50,
     "metadata": {},
     "output_type": "execute_result"
    }
   ],
   "source": [
    "un_transakt_oct = (df_data[filter_october][filter_one_transaction]['שם מסעדה'].value_counts()==1).sum()\n",
    "un_transakt_oct\n",
    "\n"
   ]
  },
  {
   "cell_type": "code",
   "execution_count": 51,
   "id": "133416d8-576a-4a14-a5ed-38370070b77c",
   "metadata": {},
   "outputs": [
    {
     "name": "stderr",
     "output_type": "stream",
     "text": [
      "C:\\Users\\User\\AppData\\Local\\Temp\\ipykernel_18424\\3260293083.py:1: UserWarning: Boolean Series key will be reindexed to match DataFrame index.\n",
      "  un_transakt_nov = (df_data[filter_november][filter_one_transaction]['שם מסעדה'].value_counts()==1).sum()\n"
     ]
    },
    {
     "data": {
      "text/plain": [
       "886"
      ]
     },
     "execution_count": 51,
     "metadata": {},
     "output_type": "execute_result"
    }
   ],
   "source": [
    "un_transakt_nov = (df_data[filter_november][filter_one_transaction]['שם מסעדה'].value_counts()==1).sum()\n",
    "un_transakt_nov\n"
   ]
  },
  {
   "cell_type": "markdown",
   "id": "7880333e-bec6-4ed6-91f1-f3dc607c487f",
   "metadata": {},
   "source": [
    "מהו סכום העסקאות הכולל בחודש אוקטובר ללא מעמ: 2"
   ]
  },
  {
   "cell_type": "code",
   "execution_count": 15,
   "id": "b474c521-04cd-4978-8be1-43d6f87d3bbe",
   "metadata": {},
   "outputs": [],
   "source": [
    "sum_oct = df_data[filter_october][ 'סכום העסקה כולל מעמ '].sum()"
   ]
  },
  {
   "cell_type": "code",
   "execution_count": 16,
   "id": "bb0007a4-24f3-4b46-ad84-546384537134",
   "metadata": {},
   "outputs": [
    {
     "data": {
      "text/plain": [
       "1129383.8921762002"
      ]
     },
     "execution_count": 16,
     "metadata": {},
     "output_type": "execute_result"
    }
   ],
   "source": [
    "sum_oct_without_VAT = sum_oct /1.17\n",
    "sum_oct_without_VAT"
   ]
  },
  {
   "cell_type": "code",
   "execution_count": 17,
   "id": "fe1e60e2-cc79-4a55-8c66-7d3cf1100751",
   "metadata": {},
   "outputs": [
    {
     "data": {
      "text/plain": [
       "1129383.8921762002"
      ]
     },
     "execution_count": 17,
     "metadata": {},
     "output_type": "execute_result"
    }
   ],
   "source": [
    "sum_oct_without_VAT"
   ]
  },
  {
   "cell_type": "markdown",
   "id": "1ead628d-79bf-4378-87d2-f1514772c56d",
   "metadata": {},
   "source": [
    "3 מהו אחוז השינוי (גידול/קיטון) בסכום העסקאות בין החודשים אוקטובר לנובמבר?"
   ]
  },
  {
   "cell_type": "code",
   "execution_count": 18,
   "id": "21c123ee-3c0e-4738-8eaa-0d6bbfcd228e",
   "metadata": {},
   "outputs": [],
   "source": [
    "filter_Oshi_Oshi= df_data[\"שם מסעדה\"] ==\"אושי אושי - גבעתיים\""
   ]
  },
  {
   "cell_type": "code",
   "execution_count": 19,
   "id": "738d471d-c4ff-4728-8d98-04de9a611dc8",
   "metadata": {},
   "outputs": [],
   "source": [
    "filter_november =  df_data['חודש'] =='נובמבר'"
   ]
  },
  {
   "cell_type": "code",
   "execution_count": 20,
   "id": "efcc7470-b7a2-4f29-b443-5b04a7a59e59",
   "metadata": {},
   "outputs": [
    {
     "name": "stderr",
     "output_type": "stream",
     "text": [
      "C:\\Users\\User\\AppData\\Local\\Temp\\ipykernel_18424\\3169502661.py:1: UserWarning: Boolean Series key will be reindexed to match DataFrame index.\n",
      "  mean_november_Osshi = df_data[filter_Oshi_Oshi][filter_november]['סכום העסקה כולל מעמ '].mean()\n"
     ]
    }
   ],
   "source": [
    "mean_november_Osshi = df_data[filter_Oshi_Oshi][filter_november]['סכום העסקה כולל מעמ '].mean()"
   ]
  },
  {
   "cell_type": "code",
   "execution_count": 21,
   "id": "eade2824-5793-4d68-9d12-485a01ca2a09",
   "metadata": {},
   "outputs": [
    {
     "data": {
      "text/plain": [
       "122.3076923076923"
      ]
     },
     "execution_count": 21,
     "metadata": {},
     "output_type": "execute_result"
    }
   ],
   "source": [
    "mean_november_Osshi"
   ]
  },
  {
   "cell_type": "code",
   "execution_count": 22,
   "id": "c935ce5d-1863-4eaf-859b-1658eb6da124",
   "metadata": {},
   "outputs": [
    {
     "data": {
      "text/plain": [
       "1310165.4957264957"
      ]
     },
     "execution_count": 22,
     "metadata": {},
     "output_type": "execute_result"
    }
   ],
   "source": [
    "sum_nov = df_data[filter_november][ 'סכום העסקה כולל מעמ '].sum()\n",
    "sum_nov"
   ]
  },
  {
   "cell_type": "code",
   "execution_count": 23,
   "id": "c81fad44-d057-4ff6-a207-027e9344e98d",
   "metadata": {},
   "outputs": [
    {
     "data": {
      "text/plain": [
       "1321379.153846154"
      ]
     },
     "execution_count": 23,
     "metadata": {},
     "output_type": "execute_result"
    }
   ],
   "source": [
    "sum_oct = df_data[filter_october][ 'סכום העסקה כולל מעמ '].sum()\n",
    "sum_oct"
   ]
  },
  {
   "cell_type": "markdown",
   "id": "0b4d2966-0a58-4773-b0ea-8b05946e0fc0",
   "metadata": {},
   "source": [
    "מהו אחוז השינוי (גידול/קיטון) בסכום העסקאות בין החודשים אוקטובר לנובמבר? 4 "
   ]
  },
  {
   "cell_type": "code",
   "execution_count": 24,
   "id": "52143580-709b-4a10-b2b9-e96219c3b999",
   "metadata": {},
   "outputs": [
    {
     "data": {
      "text/plain": [
       "-0.8486328914012692"
      ]
     },
     "execution_count": 24,
     "metadata": {},
     "output_type": "execute_result"
    }
   ],
   "source": [
    "a = ((sum_nov - sum_oct)/sum_oct) *100\n",
    "a"
   ]
  },
  {
   "cell_type": "code",
   "execution_count": 25,
   "id": "2b1f4567-70c9-4b09-bd96-8d7d6828076e",
   "metadata": {},
   "outputs": [],
   "source": [
    "def procent_chenge(sum_oct,sum_nov):\n",
    "    procent = ((sum_nov - sum_oct) /sum_oct)*100\n",
    "    return procent"
   ]
  },
  {
   "cell_type": "code",
   "execution_count": 26,
   "id": "7365f92c-db8b-4eda-9ad3-dd5c31fe027a",
   "metadata": {},
   "outputs": [
    {
     "name": "stdout",
     "output_type": "stream",
     "text": [
      "-0.8486328914012692\n"
     ]
    }
   ],
   "source": [
    "procent = procent_chenge(sum_oct,sum_nov)\n",
    "print(procent)"
   ]
  },
  {
   "cell_type": "markdown",
   "id": "d352492e-7e64-4429-bcaf-b4c0e62d45b3",
   "metadata": {},
   "source": [
    "5 בגיליון DATA, צבע בכחול את המסעדות שבחודש מסויים הייתה בהן רק עסקה אחת. כמה מקרים מסוג זה יש? "
   ]
  },
  {
   "cell_type": "code",
   "execution_count": 27,
   "id": "b810dd1e-f56a-4395-8078-d39b0a03d316",
   "metadata": {},
   "outputs": [],
   "source": [
    "filter_one_transaction = df_data[\"כמות עסקאות\"] ==1"
   ]
  },
  {
   "cell_type": "code",
   "execution_count": 28,
   "id": "a191fc40-ec13-4d10-a9fe-b5afd137cee9",
   "metadata": {},
   "outputs": [
    {
     "data": {
      "text/html": [
       "<div>\n",
       "<style scoped>\n",
       "    .dataframe tbody tr th:only-of-type {\n",
       "        vertical-align: middle;\n",
       "    }\n",
       "\n",
       "    .dataframe tbody tr th {\n",
       "        vertical-align: top;\n",
       "    }\n",
       "\n",
       "    .dataframe thead th {\n",
       "        text-align: right;\n",
       "    }\n",
       "</style>\n",
       "<table border=\"1\" class=\"dataframe\">\n",
       "  <thead>\n",
       "    <tr style=\"text-align: right;\">\n",
       "      <th></th>\n",
       "      <th>שם חברה</th>\n",
       "      <th>שם מסעדה</th>\n",
       "      <th>כמות עסקאות</th>\n",
       "      <th>TA /ישיבה/ משלוחים</th>\n",
       "      <th>חודש</th>\n",
       "      <th>סוג מטבח</th>\n",
       "      <th>סכום העסקה כולל מעמ</th>\n",
       "    </tr>\n",
       "  </thead>\n",
       "  <tbody>\n",
       "    <tr>\n",
       "      <th>0</th>\n",
       "      <td>חברה1</td>\n",
       "      <td>buy the way - כפר סבא</td>\n",
       "      <td>1</td>\n",
       "      <td>ישיבה</td>\n",
       "      <td>אוקטובר</td>\n",
       "      <td>בית קפה</td>\n",
       "      <td>12.820513</td>\n",
       "    </tr>\n",
       "    <tr>\n",
       "      <th>1</th>\n",
       "      <td>חברה1</td>\n",
       "      <td>hiro שרונה - תל אביב</td>\n",
       "      <td>1</td>\n",
       "      <td>ישיבה</td>\n",
       "      <td>אוקטובר</td>\n",
       "      <td>אסיאתי</td>\n",
       "      <td>49.572650</td>\n",
       "    </tr>\n",
       "    <tr>\n",
       "      <th>4</th>\n",
       "      <td>חברה1</td>\n",
       "      <td>אושי אושי - גבעתיים</td>\n",
       "      <td>1</td>\n",
       "      <td>משלוחים</td>\n",
       "      <td>אוקטובר</td>\n",
       "      <td>יפני/סושי</td>\n",
       "      <td>91.538462</td>\n",
       "    </tr>\n",
       "    <tr>\n",
       "      <th>9</th>\n",
       "      <td>חברה1</td>\n",
       "      <td>ארומה  קניון עזריאלי - תל אביב</td>\n",
       "      <td>1</td>\n",
       "      <td>ישיבה</td>\n",
       "      <td>נובמבר</td>\n",
       "      <td>בית קפה</td>\n",
       "      <td>16.239316</td>\n",
       "    </tr>\n",
       "    <tr>\n",
       "      <th>11</th>\n",
       "      <td>חברה1</td>\n",
       "      <td>ארומה אספרסו בר - מתחם G כפר סבא</td>\n",
       "      <td>1</td>\n",
       "      <td>ישיבה</td>\n",
       "      <td>נובמבר</td>\n",
       "      <td>בית קפה</td>\n",
       "      <td>24.786325</td>\n",
       "    </tr>\n",
       "    <tr>\n",
       "      <th>...</th>\n",
       "      <td>...</td>\n",
       "      <td>...</td>\n",
       "      <td>...</td>\n",
       "      <td>...</td>\n",
       "      <td>...</td>\n",
       "      <td>...</td>\n",
       "      <td>...</td>\n",
       "    </tr>\n",
       "    <tr>\n",
       "      <th>10104</th>\n",
       "      <td>חברה55</td>\n",
       "      <td>גירף - רמת החייל</td>\n",
       "      <td>1</td>\n",
       "      <td>ישיבה</td>\n",
       "      <td>אוקטובר</td>\n",
       "      <td>אסיאתי</td>\n",
       "      <td>29.914530</td>\n",
       "    </tr>\n",
       "    <tr>\n",
       "      <th>10109</th>\n",
       "      <td>חברה55</td>\n",
       "      <td>גירף דרורים - בני דרור</td>\n",
       "      <td>1</td>\n",
       "      <td>ישיבה</td>\n",
       "      <td>נובמבר</td>\n",
       "      <td>אסיאתי</td>\n",
       "      <td>130.769231</td>\n",
       "    </tr>\n",
       "    <tr>\n",
       "      <th>10110</th>\n",
       "      <td>חברה55</td>\n",
       "      <td>גמבה פיצה בר - נתניה</td>\n",
       "      <td>1</td>\n",
       "      <td>ישיבה</td>\n",
       "      <td>ספטמבר</td>\n",
       "      <td>פיצריה</td>\n",
       "      <td>64.102564</td>\n",
       "    </tr>\n",
       "    <tr>\n",
       "      <th>10113</th>\n",
       "      <td>חברה55</td>\n",
       "      <td>גמס ביר פקטורי - שוק הצפון רמת החייל</td>\n",
       "      <td>1</td>\n",
       "      <td>ישיבה</td>\n",
       "      <td>נובמבר</td>\n",
       "      <td>בר</td>\n",
       "      <td>46.153846</td>\n",
       "    </tr>\n",
       "    <tr>\n",
       "      <th>10117</th>\n",
       "      <td>חברה55</td>\n",
       "      <td>גפניקה - רעננה</td>\n",
       "      <td>1</td>\n",
       "      <td>ישיבה</td>\n",
       "      <td>אוקטובר</td>\n",
       "      <td>יפני/סושי</td>\n",
       "      <td>39.316239</td>\n",
       "    </tr>\n",
       "  </tbody>\n",
       "</table>\n",
       "<p>4650 rows × 7 columns</p>\n",
       "</div>"
      ],
      "text/plain": [
       "      שם חברה                               שם מסעדה  כמות עסקאות  \\\n",
       "0        חברה1                 buy the way - כפר סבא            1   \n",
       "1        חברה1                  hiro שרונה - תל אביב            1   \n",
       "4        חברה1                   אושי אושי - גבעתיים            1   \n",
       "9        חברה1        ארומה  קניון עזריאלי - תל אביב            1   \n",
       "11       חברה1      ארומה אספרסו בר - מתחם G כפר סבא            1   \n",
       "...        ...                                   ...          ...   \n",
       "10104   חברה55                      גירף - רמת החייל            1   \n",
       "10109   חברה55                גירף דרורים - בני דרור            1   \n",
       "10110   חברה55                  גמבה פיצה בר - נתניה            1   \n",
       "10113   חברה55  גמס ביר פקטורי - שוק הצפון רמת החייל            1   \n",
       "10117   חברה55                        גפניקה - רעננה            1   \n",
       "\n",
       "      TA /ישיבה/ משלוחים     חודש   סוג מטבח  סכום העסקה כולל מעמ   \n",
       "0                  ישיבה  אוקטובר    בית קפה             12.820513  \n",
       "1                  ישיבה  אוקטובר     אסיאתי             49.572650  \n",
       "4                משלוחים  אוקטובר  יפני/סושי             91.538462  \n",
       "9                  ישיבה   נובמבר    בית קפה             16.239316  \n",
       "11                 ישיבה   נובמבר    בית קפה             24.786325  \n",
       "...                  ...      ...        ...                   ...  \n",
       "10104              ישיבה  אוקטובר     אסיאתי             29.914530  \n",
       "10109              ישיבה   נובמבר     אסיאתי            130.769231  \n",
       "10110              ישיבה   ספטמבר     פיצריה             64.102564  \n",
       "10113              ישיבה   נובמבר         בר             46.153846  \n",
       "10117              ישיבה  אוקטובר  יפני/סושי             39.316239  \n",
       "\n",
       "[4650 rows x 7 columns]"
      ]
     },
     "execution_count": 28,
     "metadata": {},
     "output_type": "execute_result"
    }
   ],
   "source": [
    "df_data[filter_one_transaction]"
   ]
  },
  {
   "cell_type": "code",
   "execution_count": 29,
   "id": "90fb2d28-25be-4a64-87ad-e489a04a14e8",
   "metadata": {},
   "outputs": [
    {
     "data": {
      "text/plain": [
       "כמות עסקאות\n",
       "1       4650\n",
       "2       1580\n",
       "3        798\n",
       "4        496\n",
       "5        379\n",
       "        ... \n",
       "2018       1\n",
       "2495       1\n",
       "1492       1\n",
       "263        1\n",
       "245        1\n",
       "Name: count, Length: 218, dtype: int64"
      ]
     },
     "execution_count": 29,
     "metadata": {},
     "output_type": "execute_result"
    }
   ],
   "source": [
    "df_data[\"כמות עסקאות\"].value_counts()"
   ]
  },
  {
   "cell_type": "code",
   "execution_count": 30,
   "id": "84f37bc1-6060-45d8-b674-9c930508e866",
   "metadata": {},
   "outputs": [
    {
     "data": {
      "text/plain": [
       "שם מסעדה\n",
       "B12 פולג - נתניה                  2\n",
       "BAR B QUE - הרצליה                5\n",
       "BBB - הארבעה תל אביב              1\n",
       "BBB - חולון                       1\n",
       "BBB - יקנעם                       6\n",
       "                                 ..\n",
       "תוקתוק מטבח אסיאתי - כפר טרומן    4\n",
       "תנעמי חומוס בר - רעננה            2\n",
       "תפן עתידים חלבי-רמת החייל         1\n",
       "תפן עתידים-רמת החייל              2\n",
       "תרזה - אור יהודה                  2\n",
       "Name: כמות עסקאות, Length: 1696, dtype: int64"
      ]
     },
     "execution_count": 30,
     "metadata": {},
     "output_type": "execute_result"
    }
   ],
   "source": [
    "rest_transaction_sept = df_data[filter_september].groupby('שם מסעדה')['כמות עסקאות'].count()\n",
    "rest_transaction_sept"
   ]
  },
  {
   "cell_type": "code",
   "execution_count": 31,
   "id": "923573d9-5fdc-412f-9423-90f91bc86155",
   "metadata": {},
   "outputs": [
    {
     "data": {
      "text/html": [
       "<div>\n",
       "<style scoped>\n",
       "    .dataframe tbody tr th:only-of-type {\n",
       "        vertical-align: middle;\n",
       "    }\n",
       "\n",
       "    .dataframe tbody tr th {\n",
       "        vertical-align: top;\n",
       "    }\n",
       "\n",
       "    .dataframe thead th {\n",
       "        text-align: right;\n",
       "    }\n",
       "</style>\n",
       "<table border=\"1\" class=\"dataframe\">\n",
       "  <thead>\n",
       "    <tr style=\"text-align: right;\">\n",
       "      <th></th>\n",
       "      <th>שם חברה</th>\n",
       "      <th>שם מסעדה</th>\n",
       "      <th>כמות עסקאות</th>\n",
       "      <th>TA /ישיבה/ משלוחים</th>\n",
       "      <th>חודש</th>\n",
       "      <th>סוג מטבח</th>\n",
       "      <th>סכום העסקה כולל מעמ</th>\n",
       "    </tr>\n",
       "  </thead>\n",
       "  <tbody>\n",
       "    <tr>\n",
       "      <th>0</th>\n",
       "      <td>False</td>\n",
       "      <td>False</td>\n",
       "      <td>False</td>\n",
       "      <td>False</td>\n",
       "      <td>False</td>\n",
       "      <td>False</td>\n",
       "      <td>False</td>\n",
       "    </tr>\n",
       "    <tr>\n",
       "      <th>1</th>\n",
       "      <td>False</td>\n",
       "      <td>False</td>\n",
       "      <td>False</td>\n",
       "      <td>False</td>\n",
       "      <td>False</td>\n",
       "      <td>False</td>\n",
       "      <td>False</td>\n",
       "    </tr>\n",
       "    <tr>\n",
       "      <th>2</th>\n",
       "      <td>False</td>\n",
       "      <td>False</td>\n",
       "      <td>False</td>\n",
       "      <td>False</td>\n",
       "      <td>False</td>\n",
       "      <td>False</td>\n",
       "      <td>False</td>\n",
       "    </tr>\n",
       "    <tr>\n",
       "      <th>3</th>\n",
       "      <td>False</td>\n",
       "      <td>False</td>\n",
       "      <td>False</td>\n",
       "      <td>False</td>\n",
       "      <td>False</td>\n",
       "      <td>False</td>\n",
       "      <td>False</td>\n",
       "    </tr>\n",
       "    <tr>\n",
       "      <th>4</th>\n",
       "      <td>False</td>\n",
       "      <td>False</td>\n",
       "      <td>False</td>\n",
       "      <td>False</td>\n",
       "      <td>False</td>\n",
       "      <td>False</td>\n",
       "      <td>False</td>\n",
       "    </tr>\n",
       "    <tr>\n",
       "      <th>...</th>\n",
       "      <td>...</td>\n",
       "      <td>...</td>\n",
       "      <td>...</td>\n",
       "      <td>...</td>\n",
       "      <td>...</td>\n",
       "      <td>...</td>\n",
       "      <td>...</td>\n",
       "    </tr>\n",
       "    <tr>\n",
       "      <th>10113</th>\n",
       "      <td>False</td>\n",
       "      <td>False</td>\n",
       "      <td>False</td>\n",
       "      <td>False</td>\n",
       "      <td>False</td>\n",
       "      <td>False</td>\n",
       "      <td>False</td>\n",
       "    </tr>\n",
       "    <tr>\n",
       "      <th>10114</th>\n",
       "      <td>False</td>\n",
       "      <td>False</td>\n",
       "      <td>False</td>\n",
       "      <td>False</td>\n",
       "      <td>False</td>\n",
       "      <td>False</td>\n",
       "      <td>False</td>\n",
       "    </tr>\n",
       "    <tr>\n",
       "      <th>10115</th>\n",
       "      <td>False</td>\n",
       "      <td>False</td>\n",
       "      <td>False</td>\n",
       "      <td>False</td>\n",
       "      <td>False</td>\n",
       "      <td>False</td>\n",
       "      <td>False</td>\n",
       "    </tr>\n",
       "    <tr>\n",
       "      <th>10116</th>\n",
       "      <td>False</td>\n",
       "      <td>False</td>\n",
       "      <td>False</td>\n",
       "      <td>False</td>\n",
       "      <td>False</td>\n",
       "      <td>False</td>\n",
       "      <td>False</td>\n",
       "    </tr>\n",
       "    <tr>\n",
       "      <th>10117</th>\n",
       "      <td>False</td>\n",
       "      <td>False</td>\n",
       "      <td>False</td>\n",
       "      <td>False</td>\n",
       "      <td>False</td>\n",
       "      <td>False</td>\n",
       "      <td>False</td>\n",
       "    </tr>\n",
       "  </tbody>\n",
       "</table>\n",
       "<p>10118 rows × 7 columns</p>\n",
       "</div>"
      ],
      "text/plain": [
       "       שם חברה   שם מסעדה  כמות עסקאות  TA /ישיבה/ משלוחים   חודש  סוג מטבח  \\\n",
       "0         False     False        False               False  False     False   \n",
       "1         False     False        False               False  False     False   \n",
       "2         False     False        False               False  False     False   \n",
       "3         False     False        False               False  False     False   \n",
       "4         False     False        False               False  False     False   \n",
       "...         ...       ...          ...                 ...    ...       ...   \n",
       "10113     False     False        False               False  False     False   \n",
       "10114     False     False        False               False  False     False   \n",
       "10115     False     False        False               False  False     False   \n",
       "10116     False     False        False               False  False     False   \n",
       "10117     False     False        False               False  False     False   \n",
       "\n",
       "       סכום העסקה כולל מעמ   \n",
       "0                     False  \n",
       "1                     False  \n",
       "2                     False  \n",
       "3                     False  \n",
       "4                     False  \n",
       "...                     ...  \n",
       "10113                 False  \n",
       "10114                 False  \n",
       "10115                 False  \n",
       "10116                 False  \n",
       "10117                 False  \n",
       "\n",
       "[10118 rows x 7 columns]"
      ]
     },
     "execution_count": 31,
     "metadata": {},
     "output_type": "execute_result"
    }
   ],
   "source": [
    "filer_rest_one_transaction_september = rest_transaction_sept ==1\n",
    "df_data.isin(filer_rest_one_transaction_september)"
   ]
  },
  {
   "cell_type": "markdown",
   "id": "efd45c1d-546f-4e11-bd90-4458734f2055",
   "metadata": {},
   "source": [
    "6 מהו אחוז עסקאות המשלוחים מתוך כלל העסקאות בחברה ששמה: חברה32?"
   ]
  },
  {
   "cell_type": "code",
   "execution_count": 32,
   "id": "aa01d70a-97dd-487d-a95a-dab96e58bcaf",
   "metadata": {},
   "outputs": [
    {
     "name": "stderr",
     "output_type": "stream",
     "text": [
      "C:\\Users\\User\\AppData\\Local\\Temp\\ipykernel_18424\\1259582263.py:4: UserWarning: Boolean Series key will be reindexed to match DataFrame index.\n",
      "  df_data[filter_company_32][filter_shipping]['סכום העסקה כולל מעמ '].sum()\n"
     ]
    },
    {
     "data": {
      "text/plain": [
       "15683.495726495728"
      ]
     },
     "execution_count": 32,
     "metadata": {},
     "output_type": "execute_result"
    }
   ],
   "source": [
    "filter_company_32 = df_data['שם חברה ']  == 'חברה32'\n",
    "filter_shipping = df_data['TA /ישיבה/ משלוחים']=='משלוחים'\n",
    "df_data[filter_company_32]['סכום העסקה כולל מעמ '].sum()\n",
    "df_data[filter_company_32][filter_shipping]['סכום העסקה כולל מעמ '].sum()"
   ]
  },
  {
   "cell_type": "code",
   "execution_count": 33,
   "id": "64d9e4a7-233a-4092-8736-6867802faea7",
   "metadata": {},
   "outputs": [],
   "source": [
    "sum_transaction_company32 = df_data[filter_company_32]['סכום העסקה כולל מעמ '].sum()"
   ]
  },
  {
   "cell_type": "code",
   "execution_count": 34,
   "id": "4b93a677-4dfe-4706-81f8-3a70c06c87ed",
   "metadata": {},
   "outputs": [
    {
     "name": "stderr",
     "output_type": "stream",
     "text": [
      "C:\\Users\\User\\AppData\\Local\\Temp\\ipykernel_18424\\4226795750.py:1: UserWarning: Boolean Series key will be reindexed to match DataFrame index.\n",
      "  sum_transaction_company32_shiping= df_data[filter_company_32][filter_shipping]['סכום העסקה כולל מעמ '].sum()\n"
     ]
    }
   ],
   "source": [
    "sum_transaction_company32_shiping= df_data[filter_company_32][filter_shipping]['סכום העסקה כולל מעמ '].sum()"
   ]
  },
  {
   "cell_type": "code",
   "execution_count": 35,
   "id": "d3c5689e-45c5-48f3-89b5-b325ab5f9b01",
   "metadata": {},
   "outputs": [
    {
     "data": {
      "text/plain": [
       "43.90808673800237"
      ]
     },
     "execution_count": 35,
     "metadata": {},
     "output_type": "execute_result"
    }
   ],
   "source": [
    "procent_shipping_company32 = (sum_transaction_company32_shiping/sum_transaction_company32) *100\n",
    "procent_shipping_company32"
   ]
  },
  {
   "cell_type": "code",
   "execution_count": 36,
   "id": "fc6435a7-9a9b-46af-845b-7199e14f88e0",
   "metadata": {},
   "outputs": [
    {
     "name": "stderr",
     "output_type": "stream",
     "text": [
      "C:\\Users\\User\\AppData\\Local\\Temp\\ipykernel_18424\\1659765277.py:1: UserWarning: Boolean Series key will be reindexed to match DataFrame index.\n",
      "  df_data[filter_september][filter_company_32].shape[0]\n"
     ]
    },
    {
     "data": {
      "text/plain": [
       "69"
      ]
     },
     "execution_count": 36,
     "metadata": {},
     "output_type": "execute_result"
    }
   ],
   "source": [
    "df_data[filter_september][filter_company_32].shape[0]"
   ]
  },
  {
   "cell_type": "code",
   "execution_count": 37,
   "id": "6b35695f-4a91-4343-ada3-c701b89fcfa0",
   "metadata": {},
   "outputs": [
    {
     "name": "stderr",
     "output_type": "stream",
     "text": [
      "C:\\Users\\User\\AppData\\Local\\Temp\\ipykernel_18424\\4080640785.py:1: UserWarning: Boolean Series key will be reindexed to match DataFrame index.\n",
      "  count_of_values = df_data[filter_september][filter_company_32]['סוג מטבח'].value_counts()\n"
     ]
    },
    {
     "data": {
      "text/plain": [
       "סוג מטבח\n",
       "חנות נוחות/מכולת     11\n",
       "בית קפה              10\n",
       "בשרים                 9\n",
       "אסיאתי                6\n",
       "חלבי                  5\n",
       "סלטים וסנדוויצ'ים     5\n",
       "איטלקי / צרפתי        5\n",
       "אוכל ביתי             4\n",
       "מזון מהיר             4\n",
       "פיצריה                2\n",
       "יפני/סושי             2\n",
       "חומוסיה               2\n",
       "צמחוני/טבעוני         2\n",
       "הודי                  1\n",
       "ביסטרו                1\n",
       "Name: count, dtype: int64"
      ]
     },
     "execution_count": 37,
     "metadata": {},
     "output_type": "execute_result"
    }
   ],
   "source": [
    "count_of_values = df_data[filter_september][filter_company_32]['סוג מטבח'].value_counts()\n",
    "count_of_values"
   ]
  },
  {
   "cell_type": "code",
   "execution_count": 38,
   "id": "2c0dfee8-851e-4c50-9bd1-c2c964084289",
   "metadata": {},
   "outputs": [
    {
     "data": {
      "text/plain": [
       "11"
      ]
     },
     "execution_count": 38,
     "metadata": {},
     "output_type": "execute_result"
    }
   ],
   "source": [
    "count_of_shops = count_of_values.max()\n",
    "count_of_shops"
   ]
  },
  {
   "cell_type": "code",
   "execution_count": 39,
   "id": "fbdfd37f-7524-4ca5-9065-4ea230ffdbf7",
   "metadata": {},
   "outputs": [
    {
     "data": {
      "text/plain": [
       "סוג מטבח\n",
       "חנות נוחות/מכולת      1.000000\n",
       "בית קפה               1.100000\n",
       "בשרים                 1.222222\n",
       "אסיאתי                1.833333\n",
       "חלבי                  2.200000\n",
       "סלטים וסנדוויצ'ים     2.200000\n",
       "איטלקי / צרפתי        2.200000\n",
       "אוכל ביתי             2.750000\n",
       "מזון מהיר             2.750000\n",
       "פיצריה                5.500000\n",
       "יפני/סושי             5.500000\n",
       "חומוסיה               5.500000\n",
       "צמחוני/טבעוני         5.500000\n",
       "הודי                 11.000000\n",
       "ביסטרו               11.000000\n",
       "Name: count, dtype: float64"
      ]
     },
     "execution_count": 39,
     "metadata": {},
     "output_type": "execute_result"
    }
   ],
   "source": [
    "procent_of_shops= count_of_shops/count_of_values\n",
    "procent_of_shops"
   ]
  },
  {
   "cell_type": "code",
   "execution_count": 40,
   "id": "6fa1c4e9-8428-4c0b-8c00-849c313a3fb7",
   "metadata": {},
   "outputs": [],
   "source": [
    "filter_pizeria = df_data['סוג מטבח'] =='פיצריה'"
   ]
  },
  {
   "cell_type": "code",
   "execution_count": 41,
   "id": "f4ebc081-9f36-466f-9410-dc6da7ea8284",
   "metadata": {},
   "outputs": [
    {
     "name": "stderr",
     "output_type": "stream",
     "text": [
      "C:\\Users\\User\\AppData\\Local\\Temp\\ipykernel_18424\\3991424064.py:1: UserWarning: Boolean Series key will be reindexed to match DataFrame index.\n",
      "  df_data[filter_company_32][filter_pizeria][filter_september]['סכום העסקה כולל מעמ '].sum()\n",
      "C:\\Users\\User\\AppData\\Local\\Temp\\ipykernel_18424\\3991424064.py:1: UserWarning: Boolean Series key will be reindexed to match DataFrame index.\n",
      "  df_data[filter_company_32][filter_pizeria][filter_september]['סכום העסקה כולל מעמ '].sum()\n"
     ]
    },
    {
     "data": {
      "text/plain": [
       "177.82051282051282"
      ]
     },
     "execution_count": 41,
     "metadata": {},
     "output_type": "execute_result"
    }
   ],
   "source": [
    "df_data[filter_company_32][filter_pizeria][filter_september]['סכום העסקה כולל מעמ '].sum()"
   ]
  },
  {
   "cell_type": "code",
   "execution_count": 42,
   "id": "54b7483e-7f70-44fb-876b-43ce1809e715",
   "metadata": {},
   "outputs": [
    {
     "name": "stderr",
     "output_type": "stream",
     "text": [
      "C:\\Users\\User\\AppData\\Local\\Temp\\ipykernel_18424\\97145193.py:1: UserWarning: Boolean Series key will be reindexed to match DataFrame index.\n",
      "  df_data[filter_company_32][filter_september]['סכום העסקה כולל מעמ '].sum()\n"
     ]
    },
    {
     "data": {
      "text/plain": [
       "8189.0940170940175"
      ]
     },
     "execution_count": 42,
     "metadata": {},
     "output_type": "execute_result"
    }
   ],
   "source": [
    "df_data[filter_company_32][filter_september]['סכום העסקה כולל מעמ '].sum()"
   ]
  },
  {
   "cell_type": "code",
   "execution_count": null,
   "id": "a779889e-559d-4926-8196-15e8e9d8638e",
   "metadata": {},
   "outputs": [],
   "source": []
  },
  {
   "cell_type": "code",
   "execution_count": null,
   "id": "9f87f222-c34a-4083-a24d-e1928a046d9f",
   "metadata": {},
   "outputs": [],
   "source": []
  },
  {
   "cell_type": "code",
   "execution_count": null,
   "id": "880e4437-39cc-4d35-b948-bf36ff2dfa77",
   "metadata": {},
   "outputs": [],
   "source": []
  },
  {
   "cell_type": "code",
   "execution_count": null,
   "id": "51b3b82e-44c4-42d0-a1d9-a9386ac581d5",
   "metadata": {},
   "outputs": [],
   "source": []
  }
 ],
 "metadata": {
  "kernelspec": {
   "display_name": "Python 3 (ipykernel)",
   "language": "python",
   "name": "python3"
  },
  "language_info": {
   "codemirror_mode": {
    "name": "ipython",
    "version": 3
   },
   "file_extension": ".py",
   "mimetype": "text/x-python",
   "name": "python",
   "nbconvert_exporter": "python",
   "pygments_lexer": "ipython3",
   "version": "3.11.5"
  }
 },
 "nbformat": 4,
 "nbformat_minor": 5
}
